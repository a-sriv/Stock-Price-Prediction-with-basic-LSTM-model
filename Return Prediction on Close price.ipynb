{
 "cells": [
  {
   "cell_type": "markdown",
   "metadata": {
    "id": "md9GstiqwwUL"
   },
   "source": [
    "## DATA AND LIBRARIES IMPORT"
   ]
  },
  {
   "cell_type": "code",
   "execution_count": 1,
   "metadata": {
    "colab": {
     "base_uri": "https://localhost:8080/"
    },
    "executionInfo": {
     "elapsed": 1431,
     "status": "ok",
     "timestamp": 1605026092077,
     "user": {
      "displayName": "Anurag Srivastava",
      "photoUrl": "",
      "userId": "16067493457319522987"
     },
     "user_tz": -330
    },
    "id": "UpJxDVnuw_Nh",
    "outputId": "adaf020d-49b2-4852-83f2-22440ba5b0ae"
   },
   "outputs": [
    {
     "name": "stdout",
     "output_type": "stream",
     "text": [
      "Drive already mounted at /content/drive; to attempt to forcibly remount, call drive.mount(\"/content/drive\", force_remount=True).\n"
     ]
    }
   ],
   "source": [
    "from google.colab import drive\n",
    "drive.mount('/content/drive')"
   ]
  },
  {
   "cell_type": "code",
   "execution_count": 2,
   "metadata": {
    "executionInfo": {
     "elapsed": 4244,
     "status": "ok",
     "timestamp": 1605026094908,
     "user": {
      "displayName": "Anurag Srivastava",
      "photoUrl": "",
      "userId": "16067493457319522987"
     },
     "user_tz": -330
    },
    "id": "y--IfgLHwwUO"
   },
   "outputs": [],
   "source": [
    "import numpy as np\n",
    "import pandas as pd\n",
    "import tensorflow as tf\n",
    "import matplotlib.pyplot as plt\n",
    "%matplotlib inline"
   ]
  },
  {
   "cell_type": "code",
   "execution_count": 3,
   "metadata": {
    "executionInfo": {
     "elapsed": 4261,
     "status": "ok",
     "timestamp": 1605026094933,
     "user": {
      "displayName": "Anurag Srivastava",
      "photoUrl": "",
      "userId": "16067493457319522987"
     },
     "user_tz": -330
    },
    "id": "WbLPETH1wwUZ"
   },
   "outputs": [],
   "source": [
    "data = pd.read_csv('AAPL.csv', date_parser=True)"
   ]
  },
  {
   "cell_type": "code",
   "execution_count": 4,
   "metadata": {
    "colab": {
     "base_uri": "https://localhost:8080/",
     "height": 195
    },
    "executionInfo": {
     "elapsed": 4249,
     "status": "ok",
     "timestamp": 1605026094934,
     "user": {
      "displayName": "Anurag Srivastava",
      "photoUrl": "",
      "userId": "16067493457319522987"
     },
     "user_tz": -330
    },
    "id": "v73vN3U5wwUg",
    "outputId": "126e9372-d625-4284-fea2-c9e73a0e838e"
   },
   "outputs": [
    {
     "data": {
      "text/html": [
       "<div>\n",
       "<style scoped>\n",
       "    .dataframe tbody tr th:only-of-type {\n",
       "        vertical-align: middle;\n",
       "    }\n",
       "\n",
       "    .dataframe tbody tr th {\n",
       "        vertical-align: top;\n",
       "    }\n",
       "\n",
       "    .dataframe thead th {\n",
       "        text-align: right;\n",
       "    }\n",
       "</style>\n",
       "<table border=\"1\" class=\"dataframe\">\n",
       "  <thead>\n",
       "    <tr style=\"text-align: right;\">\n",
       "      <th></th>\n",
       "      <th>Date</th>\n",
       "      <th>Open</th>\n",
       "      <th>High</th>\n",
       "      <th>Low</th>\n",
       "      <th>Close</th>\n",
       "      <th>Adj Close</th>\n",
       "      <th>Volume</th>\n",
       "    </tr>\n",
       "  </thead>\n",
       "  <tbody>\n",
       "    <tr>\n",
       "      <th>0</th>\n",
       "      <td>2010-01-04</td>\n",
       "      <td>30.490000</td>\n",
       "      <td>30.642857</td>\n",
       "      <td>30.340000</td>\n",
       "      <td>30.572857</td>\n",
       "      <td>26.466835</td>\n",
       "      <td>123432400</td>\n",
       "    </tr>\n",
       "    <tr>\n",
       "      <th>1</th>\n",
       "      <td>2010-01-05</td>\n",
       "      <td>30.657143</td>\n",
       "      <td>30.798571</td>\n",
       "      <td>30.464285</td>\n",
       "      <td>30.625713</td>\n",
       "      <td>26.512596</td>\n",
       "      <td>150476200</td>\n",
       "    </tr>\n",
       "    <tr>\n",
       "      <th>2</th>\n",
       "      <td>2010-01-06</td>\n",
       "      <td>30.625713</td>\n",
       "      <td>30.747143</td>\n",
       "      <td>30.107143</td>\n",
       "      <td>30.138571</td>\n",
       "      <td>26.090879</td>\n",
       "      <td>138040000</td>\n",
       "    </tr>\n",
       "    <tr>\n",
       "      <th>3</th>\n",
       "      <td>2010-01-07</td>\n",
       "      <td>30.250000</td>\n",
       "      <td>30.285715</td>\n",
       "      <td>29.864286</td>\n",
       "      <td>30.082857</td>\n",
       "      <td>26.042646</td>\n",
       "      <td>119282800</td>\n",
       "    </tr>\n",
       "    <tr>\n",
       "      <th>4</th>\n",
       "      <td>2010-01-08</td>\n",
       "      <td>30.042856</td>\n",
       "      <td>30.285715</td>\n",
       "      <td>29.865715</td>\n",
       "      <td>30.282858</td>\n",
       "      <td>26.215786</td>\n",
       "      <td>111902700</td>\n",
       "    </tr>\n",
       "  </tbody>\n",
       "</table>\n",
       "</div>"
      ],
      "text/plain": [
       "         Date       Open       High        Low      Close  Adj Close     Volume\n",
       "0  2010-01-04  30.490000  30.642857  30.340000  30.572857  26.466835  123432400\n",
       "1  2010-01-05  30.657143  30.798571  30.464285  30.625713  26.512596  150476200\n",
       "2  2010-01-06  30.625713  30.747143  30.107143  30.138571  26.090879  138040000\n",
       "3  2010-01-07  30.250000  30.285715  29.864286  30.082857  26.042646  119282800\n",
       "4  2010-01-08  30.042856  30.285715  29.865715  30.282858  26.215786  111902700"
      ]
     },
     "execution_count": 4,
     "metadata": {
      "tags": []
     },
     "output_type": "execute_result"
    }
   ],
   "source": [
    "data.head()"
   ]
  },
  {
   "cell_type": "code",
   "execution_count": 5,
   "metadata": {
    "executionInfo": {
     "elapsed": 4239,
     "status": "ok",
     "timestamp": 1605026094937,
     "user": {
      "displayName": "Anurag Srivastava",
      "photoUrl": "",
      "userId": "16067493457319522987"
     },
     "user_tz": -330
    },
    "id": "fCoM47zuwwUp"
   },
   "outputs": [],
   "source": [
    "data['last_close'] = data['Close'].shift(1)"
   ]
  },
  {
   "cell_type": "code",
   "execution_count": 6,
   "metadata": {
    "colab": {
     "base_uri": "https://localhost:8080/",
     "height": 316
    },
    "executionInfo": {
     "elapsed": 4229,
     "status": "ok",
     "timestamp": 1605026094940,
     "user": {
      "displayName": "Anurag Srivastava",
      "photoUrl": "",
      "userId": "16067493457319522987"
     },
     "user_tz": -330
    },
    "id": "Uh4k5OPxwwUt",
    "outputId": "4c2fc6be-043e-403e-b55e-a3d3816a6865"
   },
   "outputs": [
    {
     "data": {
      "text/html": [
       "<div>\n",
       "<style scoped>\n",
       "    .dataframe tbody tr th:only-of-type {\n",
       "        vertical-align: middle;\n",
       "    }\n",
       "\n",
       "    .dataframe tbody tr th {\n",
       "        vertical-align: top;\n",
       "    }\n",
       "\n",
       "    .dataframe thead th {\n",
       "        text-align: right;\n",
       "    }\n",
       "</style>\n",
       "<table border=\"1\" class=\"dataframe\">\n",
       "  <thead>\n",
       "    <tr style=\"text-align: right;\">\n",
       "      <th></th>\n",
       "      <th>Date</th>\n",
       "      <th>Open</th>\n",
       "      <th>High</th>\n",
       "      <th>Low</th>\n",
       "      <th>Close</th>\n",
       "      <th>Adj Close</th>\n",
       "      <th>Volume</th>\n",
       "      <th>last_close</th>\n",
       "    </tr>\n",
       "  </thead>\n",
       "  <tbody>\n",
       "    <tr>\n",
       "      <th>0</th>\n",
       "      <td>2010-01-04</td>\n",
       "      <td>30.490000</td>\n",
       "      <td>30.642857</td>\n",
       "      <td>30.340000</td>\n",
       "      <td>30.572857</td>\n",
       "      <td>26.466835</td>\n",
       "      <td>123432400</td>\n",
       "      <td>NaN</td>\n",
       "    </tr>\n",
       "    <tr>\n",
       "      <th>1</th>\n",
       "      <td>2010-01-05</td>\n",
       "      <td>30.657143</td>\n",
       "      <td>30.798571</td>\n",
       "      <td>30.464285</td>\n",
       "      <td>30.625713</td>\n",
       "      <td>26.512596</td>\n",
       "      <td>150476200</td>\n",
       "      <td>30.572857</td>\n",
       "    </tr>\n",
       "    <tr>\n",
       "      <th>2</th>\n",
       "      <td>2010-01-06</td>\n",
       "      <td>30.625713</td>\n",
       "      <td>30.747143</td>\n",
       "      <td>30.107143</td>\n",
       "      <td>30.138571</td>\n",
       "      <td>26.090879</td>\n",
       "      <td>138040000</td>\n",
       "      <td>30.625713</td>\n",
       "    </tr>\n",
       "    <tr>\n",
       "      <th>3</th>\n",
       "      <td>2010-01-07</td>\n",
       "      <td>30.250000</td>\n",
       "      <td>30.285715</td>\n",
       "      <td>29.864286</td>\n",
       "      <td>30.082857</td>\n",
       "      <td>26.042646</td>\n",
       "      <td>119282800</td>\n",
       "      <td>30.138571</td>\n",
       "    </tr>\n",
       "    <tr>\n",
       "      <th>4</th>\n",
       "      <td>2010-01-08</td>\n",
       "      <td>30.042856</td>\n",
       "      <td>30.285715</td>\n",
       "      <td>29.865715</td>\n",
       "      <td>30.282858</td>\n",
       "      <td>26.215786</td>\n",
       "      <td>111902700</td>\n",
       "      <td>30.082857</td>\n",
       "    </tr>\n",
       "  </tbody>\n",
       "</table>\n",
       "</div>"
      ],
      "text/plain": [
       "         Date       Open       High  ...  Adj Close     Volume  last_close\n",
       "0  2010-01-04  30.490000  30.642857  ...  26.466835  123432400         NaN\n",
       "1  2010-01-05  30.657143  30.798571  ...  26.512596  150476200   30.572857\n",
       "2  2010-01-06  30.625713  30.747143  ...  26.090879  138040000   30.625713\n",
       "3  2010-01-07  30.250000  30.285715  ...  26.042646  119282800   30.138571\n",
       "4  2010-01-08  30.042856  30.285715  ...  26.215786  111902700   30.082857\n",
       "\n",
       "[5 rows x 8 columns]"
      ]
     },
     "execution_count": 6,
     "metadata": {
      "tags": []
     },
     "output_type": "execute_result"
    }
   ],
   "source": [
    "data.head()"
   ]
  },
  {
   "cell_type": "code",
   "execution_count": 7,
   "metadata": {
    "executionInfo": {
     "elapsed": 4222,
     "status": "ok",
     "timestamp": 1605026094945,
     "user": {
      "displayName": "Anurag Srivastava",
      "photoUrl": "",
      "userId": "16067493457319522987"
     },
     "user_tz": -330
    },
    "id": "9XzRgP79wwU2"
   },
   "outputs": [],
   "source": [
    " data['return'] = (data['Close'] - data['last_close']) / data['last_close']"
   ]
  },
  {
   "cell_type": "code",
   "execution_count": 8,
   "metadata": {
    "colab": {
     "base_uri": "https://localhost:8080/",
     "height": 316
    },
    "executionInfo": {
     "elapsed": 4212,
     "status": "ok",
     "timestamp": 1605026094948,
     "user": {
      "displayName": "Anurag Srivastava",
      "photoUrl": "",
      "userId": "16067493457319522987"
     },
     "user_tz": -330
    },
    "id": "zcI9stlbwwU-",
    "outputId": "104949f5-0eba-42d2-eba5-da002dba29c9"
   },
   "outputs": [
    {
     "data": {
      "text/html": [
       "<div>\n",
       "<style scoped>\n",
       "    .dataframe tbody tr th:only-of-type {\n",
       "        vertical-align: middle;\n",
       "    }\n",
       "\n",
       "    .dataframe tbody tr th {\n",
       "        vertical-align: top;\n",
       "    }\n",
       "\n",
       "    .dataframe thead th {\n",
       "        text-align: right;\n",
       "    }\n",
       "</style>\n",
       "<table border=\"1\" class=\"dataframe\">\n",
       "  <thead>\n",
       "    <tr style=\"text-align: right;\">\n",
       "      <th></th>\n",
       "      <th>Date</th>\n",
       "      <th>Open</th>\n",
       "      <th>High</th>\n",
       "      <th>Low</th>\n",
       "      <th>Close</th>\n",
       "      <th>Adj Close</th>\n",
       "      <th>Volume</th>\n",
       "      <th>last_close</th>\n",
       "      <th>return</th>\n",
       "    </tr>\n",
       "  </thead>\n",
       "  <tbody>\n",
       "    <tr>\n",
       "      <th>0</th>\n",
       "      <td>2010-01-04</td>\n",
       "      <td>30.490000</td>\n",
       "      <td>30.642857</td>\n",
       "      <td>30.340000</td>\n",
       "      <td>30.572857</td>\n",
       "      <td>26.466835</td>\n",
       "      <td>123432400</td>\n",
       "      <td>NaN</td>\n",
       "      <td>NaN</td>\n",
       "    </tr>\n",
       "    <tr>\n",
       "      <th>1</th>\n",
       "      <td>2010-01-05</td>\n",
       "      <td>30.657143</td>\n",
       "      <td>30.798571</td>\n",
       "      <td>30.464285</td>\n",
       "      <td>30.625713</td>\n",
       "      <td>26.512596</td>\n",
       "      <td>150476200</td>\n",
       "      <td>30.572857</td>\n",
       "      <td>0.001729</td>\n",
       "    </tr>\n",
       "    <tr>\n",
       "      <th>2</th>\n",
       "      <td>2010-01-06</td>\n",
       "      <td>30.625713</td>\n",
       "      <td>30.747143</td>\n",
       "      <td>30.107143</td>\n",
       "      <td>30.138571</td>\n",
       "      <td>26.090879</td>\n",
       "      <td>138040000</td>\n",
       "      <td>30.625713</td>\n",
       "      <td>-0.015906</td>\n",
       "    </tr>\n",
       "    <tr>\n",
       "      <th>3</th>\n",
       "      <td>2010-01-07</td>\n",
       "      <td>30.250000</td>\n",
       "      <td>30.285715</td>\n",
       "      <td>29.864286</td>\n",
       "      <td>30.082857</td>\n",
       "      <td>26.042646</td>\n",
       "      <td>119282800</td>\n",
       "      <td>30.138571</td>\n",
       "      <td>-0.001849</td>\n",
       "    </tr>\n",
       "    <tr>\n",
       "      <th>4</th>\n",
       "      <td>2010-01-08</td>\n",
       "      <td>30.042856</td>\n",
       "      <td>30.285715</td>\n",
       "      <td>29.865715</td>\n",
       "      <td>30.282858</td>\n",
       "      <td>26.215786</td>\n",
       "      <td>111902700</td>\n",
       "      <td>30.082857</td>\n",
       "      <td>0.006648</td>\n",
       "    </tr>\n",
       "  </tbody>\n",
       "</table>\n",
       "</div>"
      ],
      "text/plain": [
       "         Date       Open       High  ...     Volume  last_close    return\n",
       "0  2010-01-04  30.490000  30.642857  ...  123432400         NaN       NaN\n",
       "1  2010-01-05  30.657143  30.798571  ...  150476200   30.572857  0.001729\n",
       "2  2010-01-06  30.625713  30.747143  ...  138040000   30.625713 -0.015906\n",
       "3  2010-01-07  30.250000  30.285715  ...  119282800   30.138571 -0.001849\n",
       "4  2010-01-08  30.042856  30.285715  ...  111902700   30.082857  0.006648\n",
       "\n",
       "[5 rows x 9 columns]"
      ]
     },
     "execution_count": 8,
     "metadata": {
      "tags": []
     },
     "output_type": "execute_result"
    }
   ],
   "source": [
    "data.head()"
   ]
  },
  {
   "cell_type": "code",
   "execution_count": 9,
   "metadata": {
    "colab": {
     "base_uri": "https://localhost:8080/",
     "height": 282
    },
    "executionInfo": {
     "elapsed": 4197,
     "status": "ok",
     "timestamp": 1605026094951,
     "user": {
      "displayName": "Anurag Srivastava",
      "photoUrl": "",
      "userId": "16067493457319522987"
     },
     "user_tz": -330
    },
    "id": "XK7DhkkDwwVI",
    "outputId": "710b0be1-0513-4ab1-db8b-dea9693d63e8"
   },
   "outputs": [
    {
     "data": {
      "text/plain": [
       "<matplotlib.axes._subplots.AxesSubplot at 0x7fe5ede0aa58>"
      ]
     },
     "execution_count": 9,
     "metadata": {
      "tags": []
     },
     "output_type": "execute_result"
    },
    {
     "data": {
      "image/png": "[encoded data removed]",
      "text/plain": [
       "<Figure size 432x288 with 1 Axes>"
      ]
     },
     "metadata": {
      "needs_background": "light",
      "tags": []
     },
     "output_type": "display_data"
    }
   ],
   "source": [
    "data['return'].hist()"
   ]
  },
  {
   "cell_type": "code",
   "execution_count": 10,
   "metadata": {
    "executionInfo": {
     "elapsed": 4187,
     "status": "ok",
     "timestamp": 1605026094953,
     "user": {
      "displayName": "Anurag Srivastava",
      "photoUrl": "",
      "userId": "16067493457319522987"
     },
     "user_tz": -330
    },
    "id": "3dSyUJFXwwVT"
   },
   "outputs": [],
   "source": [
    "train = data[data['Date']<='2018-12-31']\n",
    "test = data[data['Date']>'2018-12-31']"
   ]
  },
  {
   "cell_type": "code",
   "execution_count": 11,
   "metadata": {
    "colab": {
     "base_uri": "https://localhost:8080/",
     "height": 316
    },
    "executionInfo": {
     "elapsed": 4176,
     "status": "ok",
     "timestamp": 1605026094955,
     "user": {
      "displayName": "Anurag Srivastava",
      "photoUrl": "",
      "userId": "16067493457319522987"
     },
     "user_tz": -330
    },
    "id": "TZNm0NqZwwVa",
    "outputId": "a0acad05-cc1d-4ffe-8b0b-9d2a61bc0ba2"
   },
   "outputs": [
    {
     "data": {
      "text/html": [
       "<div>\n",
       "<style scoped>\n",
       "    .dataframe tbody tr th:only-of-type {\n",
       "        vertical-align: middle;\n",
       "    }\n",
       "\n",
       "    .dataframe tbody tr th {\n",
       "        vertical-align: top;\n",
       "    }\n",
       "\n",
       "    .dataframe thead th {\n",
       "        text-align: right;\n",
       "    }\n",
       "</style>\n",
       "<table border=\"1\" class=\"dataframe\">\n",
       "  <thead>\n",
       "    <tr style=\"text-align: right;\">\n",
       "      <th></th>\n",
       "      <th>Date</th>\n",
       "      <th>Open</th>\n",
       "      <th>High</th>\n",
       "      <th>Low</th>\n",
       "      <th>Close</th>\n",
       "      <th>Adj Close</th>\n",
       "      <th>Volume</th>\n",
       "      <th>last_close</th>\n",
       "      <th>return</th>\n",
       "    </tr>\n",
       "  </thead>\n",
       "  <tbody>\n",
       "    <tr>\n",
       "      <th>0</th>\n",
       "      <td>2010-01-04</td>\n",
       "      <td>30.490000</td>\n",
       "      <td>30.642857</td>\n",
       "      <td>30.340000</td>\n",
       "      <td>30.572857</td>\n",
       "      <td>26.466835</td>\n",
       "      <td>123432400</td>\n",
       "      <td>NaN</td>\n",
       "      <td>NaN</td>\n",
       "    </tr>\n",
       "    <tr>\n",
       "      <th>1</th>\n",
       "      <td>2010-01-05</td>\n",
       "      <td>30.657143</td>\n",
       "      <td>30.798571</td>\n",
       "      <td>30.464285</td>\n",
       "      <td>30.625713</td>\n",
       "      <td>26.512596</td>\n",
       "      <td>150476200</td>\n",
       "      <td>30.572857</td>\n",
       "      <td>0.001729</td>\n",
       "    </tr>\n",
       "    <tr>\n",
       "      <th>2</th>\n",
       "      <td>2010-01-06</td>\n",
       "      <td>30.625713</td>\n",
       "      <td>30.747143</td>\n",
       "      <td>30.107143</td>\n",
       "      <td>30.138571</td>\n",
       "      <td>26.090879</td>\n",
       "      <td>138040000</td>\n",
       "      <td>30.625713</td>\n",
       "      <td>-0.015906</td>\n",
       "    </tr>\n",
       "    <tr>\n",
       "      <th>3</th>\n",
       "      <td>2010-01-07</td>\n",
       "      <td>30.250000</td>\n",
       "      <td>30.285715</td>\n",
       "      <td>29.864286</td>\n",
       "      <td>30.082857</td>\n",
       "      <td>26.042646</td>\n",
       "      <td>119282800</td>\n",
       "      <td>30.138571</td>\n",
       "      <td>-0.001849</td>\n",
       "    </tr>\n",
       "    <tr>\n",
       "      <th>4</th>\n",
       "      <td>2010-01-08</td>\n",
       "      <td>30.042856</td>\n",
       "      <td>30.285715</td>\n",
       "      <td>29.865715</td>\n",
       "      <td>30.282858</td>\n",
       "      <td>26.215786</td>\n",
       "      <td>111902700</td>\n",
       "      <td>30.082857</td>\n",
       "      <td>0.006648</td>\n",
       "    </tr>\n",
       "  </tbody>\n",
       "</table>\n",
       "</div>"
      ],
      "text/plain": [
       "         Date       Open       High  ...     Volume  last_close    return\n",
       "0  2010-01-04  30.490000  30.642857  ...  123432400         NaN       NaN\n",
       "1  2010-01-05  30.657143  30.798571  ...  150476200   30.572857  0.001729\n",
       "2  2010-01-06  30.625713  30.747143  ...  138040000   30.625713 -0.015906\n",
       "3  2010-01-07  30.250000  30.285715  ...  119282800   30.138571 -0.001849\n",
       "4  2010-01-08  30.042856  30.285715  ...  111902700   30.082857  0.006648\n",
       "\n",
       "[5 rows x 9 columns]"
      ]
     },
     "execution_count": 11,
     "metadata": {
      "tags": []
     },
     "output_type": "execute_result"
    }
   ],
   "source": [
    "train.head()"
   ]
  },
  {
   "cell_type": "code",
   "execution_count": 12,
   "metadata": {
    "colab": {
     "base_uri": "https://localhost:8080/",
     "height": 299
    },
    "executionInfo": {
     "elapsed": 4161,
     "status": "ok",
     "timestamp": 1605026094957,
     "user": {
      "displayName": "Anurag Srivastava",
      "photoUrl": "",
      "userId": "16067493457319522987"
     },
     "user_tz": -330
    },
    "id": "9_5rarAQwwVe",
    "outputId": "49478648-08d3-4442-d6a4-665a8eec081e"
   },
   "outputs": [
    {
     "data": {
      "text/html": [
       "<div>\n",
       "<style scoped>\n",
       "    .dataframe tbody tr th:only-of-type {\n",
       "        vertical-align: middle;\n",
       "    }\n",
       "\n",
       "    .dataframe tbody tr th {\n",
       "        vertical-align: top;\n",
       "    }\n",
       "\n",
       "    .dataframe thead th {\n",
       "        text-align: right;\n",
       "    }\n",
       "</style>\n",
       "<table border=\"1\" class=\"dataframe\">\n",
       "  <thead>\n",
       "    <tr style=\"text-align: right;\">\n",
       "      <th></th>\n",
       "      <th>Date</th>\n",
       "      <th>Open</th>\n",
       "      <th>High</th>\n",
       "      <th>Low</th>\n",
       "      <th>Close</th>\n",
       "      <th>Adj Close</th>\n",
       "      <th>Volume</th>\n",
       "      <th>last_close</th>\n",
       "      <th>return</th>\n",
       "    </tr>\n",
       "  </thead>\n",
       "  <tbody>\n",
       "    <tr>\n",
       "      <th>2264</th>\n",
       "      <td>2019-01-02</td>\n",
       "      <td>154.889999</td>\n",
       "      <td>158.850006</td>\n",
       "      <td>154.229996</td>\n",
       "      <td>157.919998</td>\n",
       "      <td>154.794983</td>\n",
       "      <td>37039700</td>\n",
       "      <td>157.740005</td>\n",
       "      <td>0.001141</td>\n",
       "    </tr>\n",
       "    <tr>\n",
       "      <th>2265</th>\n",
       "      <td>2019-01-03</td>\n",
       "      <td>143.979996</td>\n",
       "      <td>145.720001</td>\n",
       "      <td>142.000000</td>\n",
       "      <td>142.190002</td>\n",
       "      <td>139.376251</td>\n",
       "      <td>91312200</td>\n",
       "      <td>157.919998</td>\n",
       "      <td>-0.099607</td>\n",
       "    </tr>\n",
       "    <tr>\n",
       "      <th>2266</th>\n",
       "      <td>2019-01-04</td>\n",
       "      <td>144.529999</td>\n",
       "      <td>148.550003</td>\n",
       "      <td>143.800003</td>\n",
       "      <td>148.259995</td>\n",
       "      <td>145.326126</td>\n",
       "      <td>58607100</td>\n",
       "      <td>142.190002</td>\n",
       "      <td>0.042689</td>\n",
       "    </tr>\n",
       "    <tr>\n",
       "      <th>2267</th>\n",
       "      <td>2019-01-07</td>\n",
       "      <td>148.699997</td>\n",
       "      <td>148.830002</td>\n",
       "      <td>145.899994</td>\n",
       "      <td>147.929993</td>\n",
       "      <td>145.002686</td>\n",
       "      <td>54777800</td>\n",
       "      <td>148.259995</td>\n",
       "      <td>-0.002226</td>\n",
       "    </tr>\n",
       "    <tr>\n",
       "      <th>2268</th>\n",
       "      <td>2019-01-08</td>\n",
       "      <td>149.559998</td>\n",
       "      <td>151.820007</td>\n",
       "      <td>148.520004</td>\n",
       "      <td>150.750000</td>\n",
       "      <td>147.766861</td>\n",
       "      <td>41025300</td>\n",
       "      <td>147.929993</td>\n",
       "      <td>0.019063</td>\n",
       "    </tr>\n",
       "  </tbody>\n",
       "</table>\n",
       "</div>"
      ],
      "text/plain": [
       "            Date        Open        High  ...    Volume  last_close    return\n",
       "2264  2019-01-02  154.889999  158.850006  ...  37039700  157.740005  0.001141\n",
       "2265  2019-01-03  143.979996  145.720001  ...  91312200  157.919998 -0.099607\n",
       "2266  2019-01-04  144.529999  148.550003  ...  58607100  142.190002  0.042689\n",
       "2267  2019-01-07  148.699997  148.830002  ...  54777800  148.259995 -0.002226\n",
       "2268  2019-01-08  149.559998  151.820007  ...  41025300  147.929993  0.019063\n",
       "\n",
       "[5 rows x 9 columns]"
      ]
     },
     "execution_count": 12,
     "metadata": {
      "tags": []
     },
     "output_type": "execute_result"
    }
   ],
   "source": [
    "test.head()"
   ]
  },
  {
   "cell_type": "code",
   "execution_count": 13,
   "metadata": {
    "colab": {
     "base_uri": "https://localhost:8080/"
    },
    "executionInfo": {
     "elapsed": 4788,
     "status": "ok",
     "timestamp": 1605026095599,
     "user": {
      "displayName": "Anurag Srivastava",
      "photoUrl": "",
      "userId": "16067493457319522987"
     },
     "user_tz": -330
    },
    "id": "bLz_n1Y8wwVk",
    "outputId": "4b4318b4-6bd6-41ce-bcb1-518f0dc918cf"
   },
   "outputs": [
    {
     "data": {
      "text/plain": [
       "Index(['Date', 'Open', 'High', 'Low', 'Close', 'Adj Close', 'Volume',\n",
       "       'last_close', 'return'],\n",
       "      dtype='object')"
      ]
     },
     "execution_count": 13,
     "metadata": {
      "tags": []
     },
     "output_type": "execute_result"
    }
   ],
   "source": [
    "train.columns"
   ]
  },
  {
   "cell_type": "code",
   "execution_count": 14,
   "metadata": {
    "colab": {
     "base_uri": "https://localhost:8080/"
    },
    "executionInfo": {
     "elapsed": 4777,
     "status": "ok",
     "timestamp": 1605026095600,
     "user": {
      "displayName": "Anurag Srivastava",
      "photoUrl": "",
      "userId": "16067493457319522987"
     },
     "user_tz": -330
    },
    "id": "tLTE7KVBwwVq",
    "outputId": "da2fcc28-f52f-47d8-b832-648fc6470899"
   },
   "outputs": [
    {
     "data": {
      "text/plain": [
       "Index(['Date', 'Open', 'High', 'Low', 'Close', 'Adj Close', 'Volume',\n",
       "       'last_close', 'return'],\n",
       "      dtype='object')"
      ]
     },
     "execution_count": 14,
     "metadata": {
      "tags": []
     },
     "output_type": "execute_result"
    }
   ],
   "source": [
    "test.columns"
   ]
  },
  {
   "cell_type": "code",
   "execution_count": 15,
   "metadata": {
    "colab": {
     "base_uri": "https://localhost:8080/"
    },
    "executionInfo": {
     "elapsed": 4766,
     "status": "ok",
     "timestamp": 1605026095602,
     "user": {
      "displayName": "Anurag Srivastava",
      "photoUrl": "",
      "userId": "16067493457319522987"
     },
     "user_tz": -330
    },
    "id": "qANtF3PhwwVx",
    "outputId": "5d236b77-885f-4a61-e994-92a18d0bafe1"
   },
   "outputs": [
    {
     "name": "stderr",
     "output_type": "stream",
     "text": [
      "/usr/local/lib/python3.6/dist-packages/pandas/core/frame.py:4174: SettingWithCopyWarning: \n",
      "A value is trying to be set on a copy of a slice from a DataFrame\n",
      "\n",
      "See the caveats in the documentation: https://pandas.pydata.org/pandas-docs/stable/user_guide/indexing.html#returning-a-view-versus-a-copy\n",
      "  errors=errors,\n"
     ]
    }
   ],
   "source": [
    "train.drop(['Date', 'Open', 'High', 'Low', 'Close', 'Adj Close', 'Volume',\n",
    "       'last_close'], axis=1, inplace=True)"
   ]
  },
  {
   "cell_type": "code",
   "execution_count": 16,
   "metadata": {
    "colab": {
     "base_uri": "https://localhost:8080/"
    },
    "executionInfo": {
     "elapsed": 4755,
     "status": "ok",
     "timestamp": 1605026095603,
     "user": {
      "displayName": "Anurag Srivastava",
      "photoUrl": "",
      "userId": "16067493457319522987"
     },
     "user_tz": -330
    },
    "id": "_lv8N4AwwwV8",
    "outputId": "57cceebf-1f16-4427-c31f-b3e097e0526f"
   },
   "outputs": [
    {
     "name": "stderr",
     "output_type": "stream",
     "text": [
      "/usr/local/lib/python3.6/dist-packages/pandas/core/frame.py:4174: SettingWithCopyWarning: \n",
      "A value is trying to be set on a copy of a slice from a DataFrame\n",
      "\n",
      "See the caveats in the documentation: https://pandas.pydata.org/pandas-docs/stable/user_guide/indexing.html#returning-a-view-versus-a-copy\n",
      "  errors=errors,\n"
     ]
    }
   ],
   "source": [
    "test.drop(['Date', 'Open', 'High', 'Low', 'Close', 'Adj Close', 'Volume',\n",
    "       'last_close'], axis=1, inplace=True)"
   ]
  },
  {
   "cell_type": "code",
   "execution_count": 17,
   "metadata": {
    "executionInfo": {
     "elapsed": 4747,
     "status": "ok",
     "timestamp": 1605026095605,
     "user": {
      "displayName": "Anurag Srivastava",
      "photoUrl": "",
      "userId": "16067493457319522987"
     },
     "user_tz": -330
    },
    "id": "HXcHar1nwwWA"
   },
   "outputs": [],
   "source": [
    "## for test data prep\n",
    "\n",
    "train_prep = train\n",
    "test_prep = test"
   ]
  },
  {
   "cell_type": "code",
   "execution_count": 18,
   "metadata": {
    "colab": {
     "base_uri": "https://localhost:8080/",
     "height": 195
    },
    "executionInfo": {
     "elapsed": 4735,
     "status": "ok",
     "timestamp": 1605026095607,
     "user": {
      "displayName": "Anurag Srivastava",
      "photoUrl": "",
      "userId": "16067493457319522987"
     },
     "user_tz": -330
    },
    "id": "__bFRWtHwwWE",
    "outputId": "68ded140-fb7e-45c1-d4c7-d92ebf05ef41"
   },
   "outputs": [
    {
     "data": {
      "text/html": [
       "<div>\n",
       "<style scoped>\n",
       "    .dataframe tbody tr th:only-of-type {\n",
       "        vertical-align: middle;\n",
       "    }\n",
       "\n",
       "    .dataframe tbody tr th {\n",
       "        vertical-align: top;\n",
       "    }\n",
       "\n",
       "    .dataframe thead th {\n",
       "        text-align: right;\n",
       "    }\n",
       "</style>\n",
       "<table border=\"1\" class=\"dataframe\">\n",
       "  <thead>\n",
       "    <tr style=\"text-align: right;\">\n",
       "      <th></th>\n",
       "      <th>return</th>\n",
       "    </tr>\n",
       "  </thead>\n",
       "  <tbody>\n",
       "    <tr>\n",
       "      <th>0</th>\n",
       "      <td>NaN</td>\n",
       "    </tr>\n",
       "    <tr>\n",
       "      <th>1</th>\n",
       "      <td>0.001729</td>\n",
       "    </tr>\n",
       "    <tr>\n",
       "      <th>2</th>\n",
       "      <td>-0.015906</td>\n",
       "    </tr>\n",
       "    <tr>\n",
       "      <th>3</th>\n",
       "      <td>-0.001849</td>\n",
       "    </tr>\n",
       "    <tr>\n",
       "      <th>4</th>\n",
       "      <td>0.006648</td>\n",
       "    </tr>\n",
       "  </tbody>\n",
       "</table>\n",
       "</div>"
      ],
      "text/plain": [
       "     return\n",
       "0       NaN\n",
       "1  0.001729\n",
       "2 -0.015906\n",
       "3 -0.001849\n",
       "4  0.006648"
      ]
     },
     "execution_count": 18,
     "metadata": {
      "tags": []
     },
     "output_type": "execute_result"
    }
   ],
   "source": [
    "train.head()"
   ]
  },
  {
   "cell_type": "code",
   "execution_count": 19,
   "metadata": {
    "executionInfo": {
     "elapsed": 4723,
     "status": "ok",
     "timestamp": 1605026095609,
     "user": {
      "displayName": "Anurag Srivastava",
      "photoUrl": "",
      "userId": "16067493457319522987"
     },
     "user_tz": -330
    },
    "id": "8mkRvzd_wwWJ"
   },
   "outputs": [],
   "source": [
    "train = train.to_numpy()"
   ]
  },
  {
   "cell_type": "code",
   "execution_count": 20,
   "metadata": {
    "executionInfo": {
     "elapsed": 4717,
     "status": "ok",
     "timestamp": 1605026095611,
     "user": {
      "displayName": "Anurag Srivastava",
      "photoUrl": "",
      "userId": "16067493457319522987"
     },
     "user_tz": -330
    },
    "id": "5T9cC3XJwwWQ"
   },
   "outputs": [],
   "source": [
    "train = train[1:]"
   ]
  },
  {
   "cell_type": "code",
   "execution_count": 21,
   "metadata": {
    "colab": {
     "base_uri": "https://localhost:8080/"
    },
    "executionInfo": {
     "elapsed": 4710,
     "status": "ok",
     "timestamp": 1605026095614,
     "user": {
      "displayName": "Anurag Srivastava",
      "photoUrl": "",
      "userId": "16067493457319522987"
     },
     "user_tz": -330
    },
    "id": "LLdWR9xdwwWV",
    "outputId": "8c17222c-0d8e-462f-9c5f-3bd330545acd"
   },
   "outputs": [
    {
     "data": {
      "text/plain": [
       "array([[ 0.00172885],\n",
       "       [-0.01590631],\n",
       "       [-0.00184859],\n",
       "       ...,\n",
       "       [-0.00648981],\n",
       "       [ 0.00051234],\n",
       "       [ 0.0096653 ]])"
      ]
     },
     "execution_count": 21,
     "metadata": {
      "tags": []
     },
     "output_type": "execute_result"
    }
   ],
   "source": [
    "train"
   ]
  },
  {
   "cell_type": "code",
   "execution_count": 22,
   "metadata": {
    "colab": {
     "base_uri": "https://localhost:8080/"
    },
    "executionInfo": {
     "elapsed": 4699,
     "status": "ok",
     "timestamp": 1605026095616,
     "user": {
      "displayName": "Anurag Srivastava",
      "photoUrl": "",
      "userId": "16067493457319522987"
     },
     "user_tz": -330
    },
    "id": "5c_zThsEwwWc",
    "outputId": "fe47fb14-b986-4eda-c3d1-8bf42beceab8"
   },
   "outputs": [
    {
     "data": {
      "text/plain": [
       "(2263, 1)"
      ]
     },
     "execution_count": 22,
     "metadata": {
      "tags": []
     },
     "output_type": "execute_result"
    }
   ],
   "source": [
    "train.shape"
   ]
  },
  {
   "cell_type": "code",
   "execution_count": 23,
   "metadata": {
    "executionInfo": {
     "elapsed": 4690,
     "status": "ok",
     "timestamp": 1605026095617,
     "user": {
      "displayName": "Anurag Srivastava",
      "photoUrl": "",
      "userId": "16067493457319522987"
     },
     "user_tz": -330
    },
    "id": "KwmXer98wwWh"
   },
   "outputs": [],
   "source": [
    "test = test.to_numpy()"
   ]
  },
  {
   "cell_type": "code",
   "execution_count": 24,
   "metadata": {
    "colab": {
     "base_uri": "https://localhost:8080/"
    },
    "executionInfo": {
     "elapsed": 4682,
     "status": "ok",
     "timestamp": 1605026095619,
     "user": {
      "displayName": "Anurag Srivastava",
      "photoUrl": "",
      "userId": "16067493457319522987"
     },
     "user_tz": -330
    },
    "id": "hujHDZgrwwWn",
    "outputId": "8142c44e-1c25-4919-c80a-f6167ca176a8"
   },
   "outputs": [
    {
     "data": {
      "text/plain": [
       "(210, 1)"
      ]
     },
     "execution_count": 24,
     "metadata": {
      "tags": []
     },
     "output_type": "execute_result"
    }
   ],
   "source": [
    "test.shape"
   ]
  },
  {
   "cell_type": "markdown",
   "metadata": {
    "id": "uM9gk5W4wwWs"
   },
   "source": [
    "## Scaling the data"
   ]
  },
  {
   "cell_type": "code",
   "execution_count": 25,
   "metadata": {
    "executionInfo": {
     "elapsed": 4673,
     "status": "ok",
     "timestamp": 1605026095620,
     "user": {
      "displayName": "Anurag Srivastava",
      "photoUrl": "",
      "userId": "16067493457319522987"
     },
     "user_tz": -330
    },
    "id": "jrW0zL8vwwWt"
   },
   "outputs": [],
   "source": [
    "from sklearn.preprocessing import StandardScaler"
   ]
  },
  {
   "cell_type": "code",
   "execution_count": 26,
   "metadata": {
    "executionInfo": {
     "elapsed": 4667,
     "status": "ok",
     "timestamp": 1605026095622,
     "user": {
      "displayName": "Anurag Srivastava",
      "photoUrl": "",
      "userId": "16067493457319522987"
     },
     "user_tz": -330
    },
    "id": "JdDXsHNZwwW-"
   },
   "outputs": [],
   "source": [
    "scaler = StandardScaler()"
   ]
  },
  {
   "cell_type": "code",
   "execution_count": 27,
   "metadata": {
    "executionInfo": {
     "elapsed": 4660,
     "status": "ok",
     "timestamp": 1605026095624,
     "user": {
      "displayName": "Anurag Srivastava",
      "photoUrl": "",
      "userId": "16067493457319522987"
     },
     "user_tz": -330
    },
    "id": "7nUBE1lZwwXD"
   },
   "outputs": [],
   "source": [
    "train = scaler.fit_transform(train)\n",
    "test = scaler.fit_transform(test)"
   ]
  },
  {
   "cell_type": "code",
   "execution_count": 28,
   "metadata": {
    "colab": {
     "base_uri": "https://localhost:8080/"
    },
    "executionInfo": {
     "elapsed": 4653,
     "status": "ok",
     "timestamp": 1605026095625,
     "user": {
      "displayName": "Anurag Srivastava",
      "photoUrl": "",
      "userId": "16067493457319522987"
     },
     "user_tz": -330
    },
    "id": "C7AqMBz1wwXJ",
    "outputId": "159e0c88-8500-47a0-8bae-aadd1fd57b38"
   },
   "outputs": [
    {
     "data": {
      "text/plain": [
       "array([0.01742307])"
      ]
     },
     "execution_count": 28,
     "metadata": {
      "tags": []
     },
     "output_type": "execute_result"
    }
   ],
   "source": [
    "scaler.scale_"
   ]
  },
  {
   "cell_type": "code",
   "execution_count": 29,
   "metadata": {
    "colab": {
     "base_uri": "https://localhost:8080/"
    },
    "executionInfo": {
     "elapsed": 4647,
     "status": "ok",
     "timestamp": 1605026095627,
     "user": {
      "displayName": "Anurag Srivastava",
      "photoUrl": "",
      "userId": "16067493457319522987"
     },
     "user_tz": -330
    },
    "id": "-X3s8t-fwwXR",
    "outputId": "e70833a1-d25d-46a7-f5c7-7ee5413f50a9"
   },
   "outputs": [
    {
     "data": {
      "text/plain": [
       "array([[ 0.05385908],\n",
       "       [-1.03507039],\n",
       "       [-0.16703989],\n",
       "       ...,\n",
       "       [-0.45362419],\n",
       "       [-0.02125772],\n",
       "       [ 0.54391555]])"
      ]
     },
     "execution_count": 29,
     "metadata": {
      "tags": []
     },
     "output_type": "execute_result"
    }
   ],
   "source": [
    "train"
   ]
  },
  {
   "cell_type": "code",
   "execution_count": 30,
   "metadata": {
    "colab": {
     "base_uri": "https://localhost:8080/"
    },
    "executionInfo": {
     "elapsed": 4640,
     "status": "ok",
     "timestamp": 1605026095628,
     "user": {
      "displayName": "Anurag Srivastava",
      "photoUrl": "",
      "userId": "16067493457319522987"
     },
     "user_tz": -330
    },
    "id": "nRAsbj7xwwXW",
    "outputId": "caa84a01-3b0d-495c-fbde-42fff4100a82"
   },
   "outputs": [
    {
     "data": {
      "text/plain": [
       "array([[-0.06181623],\n",
       "       [-5.84429147],\n",
       "       [ 2.32285226],\n",
       "       [-0.25506046],\n",
       "       [ 0.96682276],\n",
       "       [ 0.84736193],\n",
       "       [ 0.05613645],\n",
       "       [-0.69081484],\n",
       "       [-0.99036286],\n",
       "       [ 1.04738234],\n",
       "       [ 0.57386558],\n",
       "       [ 0.21349135],\n",
       "       [ 0.22621221],\n",
       "       [-1.41560869],\n",
       "       [ 0.10481638],\n",
       "       [-0.58223417],\n",
       "       [ 1.77458753],\n",
       "       [-0.65847284],\n",
       "       [-0.7221949 ],\n",
       "       [ 3.79477262],\n",
       "       [ 0.28600709],\n",
       "       [-0.09972047],\n",
       "       [ 1.50300011],\n",
       "       [ 0.8546915 ],\n",
       "       [-0.10753343],\n",
       "       [-1.21433926],\n",
       "       [-0.30526163],\n",
       "       [-0.45738235],\n",
       "       [ 0.3672753 ],\n",
       "       [-0.36577126],\n",
       "       [ 0.08179721],\n",
       "       [-0.25500424],\n",
       "       [ 0.04445114],\n",
       "       [ 0.24205362],\n",
       "       [-0.45093438],\n",
       "       [ 0.51354845],\n",
       "       [ 0.29078517],\n",
       "       [-0.0943642 ],\n",
       "       [ 0.05047512],\n",
       "       [-0.69184071],\n",
       "       [ 0.47598146],\n",
       "       [ 0.16135852],\n",
       "       [-0.23175454],\n",
       "       [-0.45755873],\n",
       "       [-0.79163619],\n",
       "       [ 0.00911049],\n",
       "       [ 1.8609893 ],\n",
       "       [ 0.51754848],\n",
       "       [ 0.12649914],\n",
       "       [ 0.51072822],\n",
       "       [ 0.61930039],\n",
       "       [ 0.45861127],\n",
       "       [-0.58214883],\n",
       "       [ 0.37424329],\n",
       "       [ 1.98657414],\n",
       "       [-1.31586817],\n",
       "       [-0.82127723],\n",
       "       [-0.72030025],\n",
       "       [ 0.38890966],\n",
       "       [-0.05117532],\n",
       "       [ 0.24676879],\n",
       "       [ 0.2624797 ],\n",
       "       [ 0.70702828],\n",
       "       [ 0.26613408],\n",
       "       [-0.0274152 ],\n",
       "       [ 0.25690938],\n",
       "       [ 0.77586627],\n",
       "       [-0.29940958],\n",
       "       [ 0.19490875],\n",
       "       [-0.60507648],\n",
       "       [-0.15038818],\n",
       "       [-0.02340973],\n",
       "       [-0.12154552],\n",
       "       [ 0.99035079],\n",
       "       [ 0.07895487],\n",
       "       [ 0.0613243 ],\n",
       "       [ 0.70051939],\n",
       "       [-0.21582774],\n",
       "       [-0.64817738],\n",
       "       [-0.40130997],\n",
       "       [-0.04021884],\n",
       "       [-1.23251917],\n",
       "       [ 2.68996815],\n",
       "       [-0.50082143],\n",
       "       [ 0.58618825],\n",
       "       [-1.01364825],\n",
       "       [-1.67451018],\n",
       "       [-0.11599315],\n",
       "       [-0.74397222],\n",
       "       [-1.13956124],\n",
       "       [-3.46308448],\n",
       "       [ 0.78127445],\n",
       "       [ 0.56023939],\n",
       "       [-0.37983153],\n",
       "       [-0.45341795],\n",
       "       [-1.92204777],\n",
       "       [ 0.97301203],\n",
       "       [-1.30228149],\n",
       "       [-1.10702539],\n",
       "       [-0.34774055],\n",
       "       [-0.36462591],\n",
       "       [-0.4010299 ],\n",
       "       [ 0.17037711],\n",
       "       [-1.1670515 ],\n",
       "       [-0.7075888 ],\n",
       "       [ 1.97243317],\n",
       "       [ 0.79924296],\n",
       "       [ 0.71535378],\n",
       "       [ 1.40037674],\n",
       "       [ 0.60616916],\n",
       "       [ 0.53730385],\n",
       "       [-0.30997241],\n",
       "       [-0.13913321],\n",
       "       [-0.54413338],\n",
       "       [ 0.21514318],\n",
       "       [ 1.22253902],\n",
       "       [-0.29505501],\n",
       "       [ 0.33389863],\n",
       "       [-0.32298259],\n",
       "       [-0.18505494],\n",
       "       [-0.9972812 ],\n",
       "       [ 1.11409561],\n",
       "       [-0.14454358],\n",
       "       [-0.65028638],\n",
       "       [ 0.92536339],\n",
       "       [ 0.20871699],\n",
       "       [ 0.34832111],\n",
       "       [-0.17785184],\n",
       "       [-1.31045118],\n",
       "       [ 0.2227675 ],\n",
       "       [ 0.4402522 ],\n",
       "       [-0.5452813 ],\n",
       "       [ 0.31364678],\n",
       "       [ 0.41191949],\n",
       "       [-0.32589021],\n",
       "       [-0.45006687],\n",
       "       [ 0.52468449],\n",
       "       [-0.98408003],\n",
       "       [ 1.18440484],\n",
       "       [ 0.32139304],\n",
       "       [-0.17402866],\n",
       "       [-0.58114315],\n",
       "       [ 0.07230803],\n",
       "       [ 0.40867872],\n",
       "       [-0.37366148],\n",
       "       [ 1.04379579],\n",
       "       [-1.36929011],\n",
       "       [-1.34168309],\n",
       "       [-3.13182251],\n",
       "       [ 0.95920552],\n",
       "       [ 0.46703562],\n",
       "       [ 1.13859221],\n",
       "       [-0.81571989],\n",
       "       [-0.27294774],\n",
       "       [ 2.3032851 ],\n",
       "       [-1.83567837],\n",
       "       [-0.41322129],\n",
       "       [ 1.22691373],\n",
       "       [ 0.94277294],\n",
       "       [-0.12458118],\n",
       "       [ 0.49477233],\n",
       "       [-0.1758913 ],\n",
       "       [-2.78014238],\n",
       "       [ 0.96315645],\n",
       "       [-0.77494663],\n",
       "       [ 0.25783617],\n",
       "       [ 0.84449623],\n",
       "       [-0.20144896],\n",
       "       [-0.96318939],\n",
       "       [ 0.84648585],\n",
       "       [ 0.99485863],\n",
       "       [-0.13269159],\n",
       "       [ 0.11760295],\n",
       "       [ 0.55070326],\n",
       "       [ 1.69757738],\n",
       "       [-0.25565754],\n",
       "       [-1.24387504],\n",
       "       [ 0.17442472],\n",
       "       [ 0.08149708],\n",
       "       [ 0.41101708],\n",
       "       [-0.59364182],\n",
       "       [-0.96631569],\n",
       "       [ 0.13366401],\n",
       "       [-0.40022098],\n",
       "       [ 0.75597997],\n",
       "       [-0.42333382],\n",
       "       [-0.40659521],\n",
       "       [ 1.22350429],\n",
       "       [ 0.03157329],\n",
       "       [-1.56608232],\n",
       "       [ 0.36024658],\n",
       "       [ 1.48158334],\n",
       "       [-0.11466606],\n",
       "       [-0.79969193],\n",
       "       [ 0.54537263],\n",
       "       [ 0.64628579],\n",
       "       [ 1.39930792],\n",
       "       [-0.20992574],\n",
       "       [-0.26113913],\n",
       "       [-0.35901884],\n",
       "       [ 0.09554372],\n",
       "       [ 0.14834975],\n",
       "       [ 0.86807981],\n",
       "       [-0.25855722],\n",
       "       [ 0.64286863],\n",
       "       [-0.03289851],\n",
       "       [ 0.57958686],\n",
       "       [ 0.44762128],\n",
       "       [-1.45473985],\n",
       "       [-0.13438528]])"
      ]
     },
     "execution_count": 30,
     "metadata": {
      "tags": []
     },
     "output_type": "execute_result"
    }
   ],
   "source": [
    "test"
   ]
  },
  {
   "cell_type": "code",
   "execution_count": 31,
   "metadata": {
    "executionInfo": {
     "elapsed": 4635,
     "status": "ok",
     "timestamp": 1605026095630,
     "user": {
      "displayName": "Anurag Srivastava",
      "photoUrl": "",
      "userId": "16067493457319522987"
     },
     "user_tz": -330
    },
    "id": "5Blk8xfvwwXd"
   },
   "outputs": [],
   "source": [
    "x_train = []\n",
    "y_train = []"
   ]
  },
  {
   "cell_type": "code",
   "execution_count": 32,
   "metadata": {
    "executionInfo": {
     "elapsed": 4627,
     "status": "ok",
     "timestamp": 1605026095632,
     "user": {
      "displayName": "Anurag Srivastava",
      "photoUrl": "",
      "userId": "16067493457319522987"
     },
     "user_tz": -330
    },
    "id": "XGFAEWtIwwXj"
   },
   "outputs": [],
   "source": [
    "for i in range(10, train.shape[0]):\n",
    "    x_train.append(train[i-10:i])\n",
    "    y_train.append(train[i,0])"
   ]
  },
  {
   "cell_type": "code",
   "execution_count": 33,
   "metadata": {
    "executionInfo": {
     "elapsed": 4620,
     "status": "ok",
     "timestamp": 1605026095634,
     "user": {
      "displayName": "Anurag Srivastava",
      "photoUrl": "",
      "userId": "16067493457319522987"
     },
     "user_tz": -330
    },
    "id": "EydGZhPUwwXn"
   },
   "outputs": [],
   "source": [
    "x_train, y_train = np.array(x_train), np.array(y_train)"
   ]
  },
  {
   "cell_type": "code",
   "execution_count": 34,
   "metadata": {
    "colab": {
     "base_uri": "https://localhost:8080/"
    },
    "executionInfo": {
     "elapsed": 4614,
     "status": "ok",
     "timestamp": 1605026095635,
     "user": {
      "displayName": "Anurag Srivastava",
      "photoUrl": "",
      "userId": "16067493457319522987"
     },
     "user_tz": -330
    },
    "id": "71CgOX74wwXq",
    "outputId": "eb964eaa-bea7-4abb-c43e-069702bbaf76"
   },
   "outputs": [
    {
     "data": {
      "text/plain": [
       "(2253, 10, 1)"
      ]
     },
     "execution_count": 34,
     "metadata": {
      "tags": []
     },
     "output_type": "execute_result"
    }
   ],
   "source": [
    "x_train.shape"
   ]
  },
  {
   "cell_type": "code",
   "execution_count": 35,
   "metadata": {
    "colab": {
     "base_uri": "https://localhost:8080/"
    },
    "executionInfo": {
     "elapsed": 4607,
     "status": "ok",
     "timestamp": 1605026095637,
     "user": {
      "displayName": "Anurag Srivastava",
      "photoUrl": "",
      "userId": "16067493457319522987"
     },
     "user_tz": -330
    },
    "id": "2_i30u-1wwXu",
    "outputId": "6460dcf8-89c9-4667-9872-7ebe714e06fb"
   },
   "outputs": [
    {
     "data": {
      "text/plain": [
       "(2253,)"
      ]
     },
     "execution_count": 35,
     "metadata": {
      "tags": []
     },
     "output_type": "execute_result"
    }
   ],
   "source": [
    "y_train.shape"
   ]
  },
  {
   "cell_type": "markdown",
   "metadata": {
    "id": "UzL6G5L9wwXx"
   },
   "source": [
    "## LSTM MODEL"
   ]
  },
  {
   "cell_type": "code",
   "execution_count": 36,
   "metadata": {
    "colab": {
     "base_uri": "https://localhost:8080/"
    },
    "executionInfo": {
     "elapsed": 5852,
     "status": "ok",
     "timestamp": 1605026096892,
     "user": {
      "displayName": "Anurag Srivastava",
      "photoUrl": "",
      "userId": "16067493457319522987"
     },
     "user_tz": -330
    },
    "id": "OivgUBQhwwXy",
    "outputId": "5a6a540d-e1ab-4198-9bb3-da50864021d1"
   },
   "outputs": [
    {
     "name": "stdout",
     "output_type": "stream",
     "text": [
      "WARNING:tensorflow:Layer lstm will not use cuDNN kernel since it doesn't meet the cuDNN kernel criteria. It will use generic GPU kernel as fallback when running on GPU\n",
      "WARNING:tensorflow:Layer lstm_1 will not use cuDNN kernel since it doesn't meet the cuDNN kernel criteria. It will use generic GPU kernel as fallback when running on GPU\n",
      "WARNING:tensorflow:Layer lstm_2 will not use cuDNN kernel since it doesn't meet the cuDNN kernel criteria. It will use generic GPU kernel as fallback when running on GPU\n",
      "WARNING:tensorflow:Layer lstm_3 will not use cuDNN kernel since it doesn't meet the cuDNN kernel criteria. It will use generic GPU kernel as fallback when running on GPU\n"
     ]
    }
   ],
   "source": [
    "model = tf.keras.models.Sequential([\n",
    "     tf.keras.layers.LSTM(50, activation='relu', input_shape=(10,1), return_sequences=True),\n",
    "                                    tf.keras.layers.Dropout(0.1),\n",
    "\n",
    "                                    tf.keras.layers.LSTM(80, activation='relu', return_sequences=True),\n",
    "                                    tf.keras.layers.Dropout(0.15),\n",
    "\n",
    "                                    tf.keras.layers.LSTM(80, activation='relu', return_sequences=True),\n",
    "                                    tf.keras.layers.Dropout(0.15),\n",
    "\n",
    "                                    tf.keras.layers.LSTM(100, activation='relu', return_sequences=True),\n",
    "                                    tf.keras.layers.Dropout(0.2),\n",
    "\n",
    "                                    tf.keras.layers.GlobalMaxPooling1D(),\n",
    "\n",
    "                                    tf.keras.layers.Dense(1)\n",
    "])"
   ]
  },
  {
   "cell_type": "code",
   "execution_count": 37,
   "metadata": {
    "executionInfo": {
     "elapsed": 5845,
     "status": "ok",
     "timestamp": 1605026096895,
     "user": {
      "displayName": "Anurag Srivastava",
      "photoUrl": "",
      "userId": "16067493457319522987"
     },
     "user_tz": -330
    },
    "id": "gPx338m3wwX0"
   },
   "outputs": [],
   "source": [
    "model.compile(\n",
    "    optimizer = 'adam',\n",
    "    loss = 'mse')"
   ]
  },
  {
   "cell_type": "code",
   "execution_count": 38,
   "metadata": {
    "colab": {
     "base_uri": "https://localhost:8080/"
    },
    "executionInfo": {
     "elapsed": 666998,
     "status": "ok",
     "timestamp": 1605026758058,
     "user": {
      "displayName": "Anurag Srivastava",
      "photoUrl": "",
      "userId": "16067493457319522987"
     },
     "user_tz": -330
    },
    "id": "LBB_dteJwwX3",
    "outputId": "71e8f0f3-6ca1-46c0-c996-cf4b5e664532"
   },
   "outputs": [
    {
     "name": "stdout",
     "output_type": "stream",
     "text": [
      "Epoch 1/100\n",
      "71/71 [==============================] - 6s 91ms/step - loss: 0.9998\n",
      "Epoch 2/100\n",
      "71/71 [==============================] - 6s 90ms/step - loss: 1.0000\n",
      "Epoch 3/100\n",
      "71/71 [==============================] - 6s 90ms/step - loss: 0.9996\n",
      "Epoch 4/100\n",
      "71/71 [==============================] - 6s 91ms/step - loss: 0.9997\n",
      "Epoch 5/100\n",
      "71/71 [==============================] - 7s 93ms/step - loss: 0.9996\n",
      "Epoch 6/100\n",
      "71/71 [==============================] - 7s 92ms/step - loss: 1.0000\n",
      "Epoch 7/100\n",
      "71/71 [==============================] - 6s 91ms/step - loss: 0.9997\n",
      "Epoch 8/100\n",
      "71/71 [==============================] - 6s 90ms/step - loss: 0.9996\n",
      "Epoch 9/100\n",
      "71/71 [==============================] - 6s 90ms/step - loss: 0.9994\n",
      "Epoch 10/100\n",
      "71/71 [==============================] - 6s 89ms/step - loss: 1.0056\n",
      "Epoch 11/100\n",
      "71/71 [==============================] - 6s 90ms/step - loss: 0.9996\n",
      "Epoch 12/100\n",
      "71/71 [==============================] - 7s 92ms/step - loss: 0.9995\n",
      "Epoch 13/100\n",
      "71/71 [==============================] - 6s 90ms/step - loss: 0.9995\n",
      "Epoch 14/100\n",
      "71/71 [==============================] - 6s 91ms/step - loss: 0.9995\n",
      "Epoch 15/100\n",
      "71/71 [==============================] - 6s 91ms/step - loss: 0.9995\n",
      "Epoch 16/100\n",
      "71/71 [==============================] - 7s 93ms/step - loss: 0.9999\n",
      "Epoch 17/100\n",
      "71/71 [==============================] - 6s 90ms/step - loss: 0.9992\n",
      "Epoch 18/100\n",
      "71/71 [==============================] - 6s 91ms/step - loss: 0.9998\n",
      "Epoch 19/100\n",
      "71/71 [==============================] - 6s 90ms/step - loss: 0.9993\n",
      "Epoch 20/100\n",
      "71/71 [==============================] - 6s 91ms/step - loss: 0.9986\n",
      "Epoch 21/100\n",
      "71/71 [==============================] - 7s 92ms/step - loss: 0.9979\n",
      "Epoch 22/100\n",
      "71/71 [==============================] - 6s 90ms/step - loss: 1.0003\n",
      "Epoch 23/100\n",
      "71/71 [==============================] - 7s 93ms/step - loss: 0.9978\n",
      "Epoch 24/100\n",
      "71/71 [==============================] - 6s 91ms/step - loss: 0.9992\n",
      "Epoch 25/100\n",
      "71/71 [==============================] - 6s 89ms/step - loss: 0.9985\n",
      "Epoch 26/100\n",
      "71/71 [==============================] - 6s 90ms/step - loss: 0.9987\n",
      "Epoch 27/100\n",
      "71/71 [==============================] - 6s 90ms/step - loss: 0.9988\n",
      "Epoch 28/100\n",
      "71/71 [==============================] - 6s 90ms/step - loss: 0.9990\n",
      "Epoch 29/100\n",
      "71/71 [==============================] - 6s 91ms/step - loss: 0.9974\n",
      "Epoch 30/100\n",
      "71/71 [==============================] - 6s 88ms/step - loss: 0.9997\n",
      "Epoch 31/100\n",
      "71/71 [==============================] - 6s 91ms/step - loss: 0.9995\n",
      "Epoch 32/100\n",
      "71/71 [==============================] - 7s 93ms/step - loss: 0.9994\n",
      "Epoch 33/100\n",
      "71/71 [==============================] - 6s 91ms/step - loss: 0.9995\n",
      "Epoch 34/100\n",
      "71/71 [==============================] - 6s 91ms/step - loss: 0.9997\n",
      "Epoch 35/100\n",
      "71/71 [==============================] - 6s 91ms/step - loss: 0.9996\n",
      "Epoch 36/100\n",
      "71/71 [==============================] - 6s 91ms/step - loss: 0.9995\n",
      "Epoch 37/100\n",
      "71/71 [==============================] - 7s 92ms/step - loss: 0.9995\n",
      "Epoch 38/100\n",
      "71/71 [==============================] - 7s 92ms/step - loss: 0.9994\n",
      "Epoch 39/100\n",
      "71/71 [==============================] - 6s 89ms/step - loss: 0.9998\n",
      "Epoch 40/100\n",
      "71/71 [==============================] - 6s 91ms/step - loss: 0.9995\n",
      "Epoch 41/100\n",
      "71/71 [==============================] - 6s 90ms/step - loss: 0.9995\n",
      "Epoch 42/100\n",
      "71/71 [==============================] - 6s 91ms/step - loss: 0.9993\n",
      "Epoch 43/100\n",
      "71/71 [==============================] - 6s 90ms/step - loss: 0.9987\n",
      "Epoch 44/100\n",
      "71/71 [==============================] - 7s 92ms/step - loss: 0.9983\n",
      "Epoch 45/100\n",
      "71/71 [==============================] - 7s 92ms/step - loss: 0.9984\n",
      "Epoch 46/100\n",
      "71/71 [==============================] - 6s 91ms/step - loss: 0.9983\n",
      "Epoch 47/100\n",
      "71/71 [==============================] - 6s 91ms/step - loss: 0.9985\n",
      "Epoch 48/100\n",
      "71/71 [==============================] - 7s 93ms/step - loss: 0.9983\n",
      "Epoch 49/100\n",
      "71/71 [==============================] - 7s 92ms/step - loss: 0.9979\n",
      "Epoch 50/100\n",
      "71/71 [==============================] - 6s 91ms/step - loss: 0.9968\n",
      "Epoch 51/100\n",
      "71/71 [==============================] - 7s 92ms/step - loss: 0.9978\n",
      "Epoch 52/100\n",
      "71/71 [==============================] - 7s 93ms/step - loss: 0.9964\n",
      "Epoch 53/100\n",
      "71/71 [==============================] - 6s 91ms/step - loss: 0.9973\n",
      "Epoch 54/100\n",
      "71/71 [==============================] - 7s 93ms/step - loss: 0.9970\n",
      "Epoch 55/100\n",
      "71/71 [==============================] - 6s 90ms/step - loss: 0.9979\n",
      "Epoch 56/100\n",
      "71/71 [==============================] - 6s 91ms/step - loss: 0.9974\n",
      "Epoch 57/100\n",
      "71/71 [==============================] - 6s 91ms/step - loss: 0.9958\n",
      "Epoch 58/100\n",
      "71/71 [==============================] - 7s 92ms/step - loss: 0.9943\n",
      "Epoch 59/100\n",
      "71/71 [==============================] - 7s 92ms/step - loss: 0.9930\n",
      "Epoch 60/100\n",
      "71/71 [==============================] - 6s 91ms/step - loss: 0.9954\n",
      "Epoch 61/100\n",
      "71/71 [==============================] - 6s 90ms/step - loss: 1.0035\n",
      "Epoch 62/100\n",
      "71/71 [==============================] - 6s 91ms/step - loss: 0.9969\n",
      "Epoch 63/100\n",
      "71/71 [==============================] - 6s 90ms/step - loss: 0.9961\n",
      "Epoch 64/100\n",
      "71/71 [==============================] - 6s 91ms/step - loss: 0.9948\n",
      "Epoch 65/100\n",
      "71/71 [==============================] - 6s 92ms/step - loss: 0.9951\n",
      "Epoch 66/100\n",
      "71/71 [==============================] - 7s 92ms/step - loss: 0.9975\n",
      "Epoch 67/100\n",
      "71/71 [==============================] - 6s 90ms/step - loss: 0.9937\n",
      "Epoch 68/100\n",
      "71/71 [==============================] - 6s 91ms/step - loss: 0.9933\n",
      "Epoch 69/100\n",
      "71/71 [==============================] - 7s 93ms/step - loss: 0.9932\n",
      "Epoch 70/100\n",
      "71/71 [==============================] - 6s 91ms/step - loss: 0.9918\n",
      "Epoch 71/100\n",
      "71/71 [==============================] - 6s 91ms/step - loss: 0.9900\n",
      "Epoch 72/100\n",
      "71/71 [==============================] - 7s 92ms/step - loss: 0.9950\n",
      "Epoch 73/100\n",
      "71/71 [==============================] - 7s 92ms/step - loss: 0.9882\n",
      "Epoch 74/100\n",
      "71/71 [==============================] - 6s 91ms/step - loss: 0.9921\n",
      "Epoch 75/100\n",
      "71/71 [==============================] - 6s 91ms/step - loss: 0.9912\n",
      "Epoch 76/100\n",
      "71/71 [==============================] - 6s 90ms/step - loss: 0.9909\n",
      "Epoch 77/100\n",
      "71/71 [==============================] - 6s 90ms/step - loss: 0.9859\n",
      "Epoch 78/100\n",
      "71/71 [==============================] - 7s 92ms/step - loss: 0.9886\n",
      "Epoch 79/100\n",
      "71/71 [==============================] - 6s 91ms/step - loss: 0.9868\n",
      "Epoch 80/100\n",
      "71/71 [==============================] - 6s 91ms/step - loss: 0.9871\n",
      "Epoch 81/100\n",
      "71/71 [==============================] - 6s 92ms/step - loss: 0.9836\n",
      "Epoch 82/100\n",
      "71/71 [==============================] - 6s 91ms/step - loss: 0.9918\n",
      "Epoch 83/100\n",
      "71/71 [==============================] - 6s 91ms/step - loss: 0.9854\n",
      "Epoch 84/100\n",
      "71/71 [==============================] - 6s 90ms/step - loss: 0.9902\n",
      "Epoch 85/100\n",
      "71/71 [==============================] - 6s 90ms/step - loss: 0.9867\n",
      "Epoch 86/100\n",
      "71/71 [==============================] - 7s 92ms/step - loss: 0.9881\n",
      "Epoch 87/100\n",
      "71/71 [==============================] - 7s 93ms/step - loss: 0.9873\n",
      "Epoch 88/100\n",
      "71/71 [==============================] - 7s 92ms/step - loss: 0.9867\n",
      "Epoch 89/100\n",
      "71/71 [==============================] - 6s 91ms/step - loss: 0.9860\n",
      "Epoch 90/100\n",
      "71/71 [==============================] - 7s 93ms/step - loss: 0.9862\n",
      "Epoch 91/100\n",
      "71/71 [==============================] - 7s 92ms/step - loss: 0.9862\n",
      "Epoch 92/100\n",
      "71/71 [==============================] - 7s 92ms/step - loss: 0.9833\n",
      "Epoch 93/100\n",
      "71/71 [==============================] - 7s 93ms/step - loss: 0.9843\n",
      "Epoch 94/100\n",
      "71/71 [==============================] - 6s 91ms/step - loss: 0.9816\n",
      "Epoch 95/100\n",
      "71/71 [==============================] - 7s 92ms/step - loss: 0.9813\n",
      "Epoch 96/100\n",
      "71/71 [==============================] - 6s 90ms/step - loss: 0.9851\n",
      "Epoch 97/100\n",
      "71/71 [==============================] - 6s 91ms/step - loss: 0.9792\n",
      "Epoch 98/100\n",
      "71/71 [==============================] - 6s 91ms/step - loss: 0.9793\n",
      "Epoch 99/100\n",
      "71/71 [==============================] - 7s 92ms/step - loss: 0.9796\n",
      "Epoch 100/100\n",
      "71/71 [==============================] - 7s 92ms/step - loss: 0.9766\n"
     ]
    },
    {
     "data": {
      "text/plain": [
       "<tensorflow.python.keras.callbacks.History at 0x7fe5e040b588>"
      ]
     },
     "execution_count": 38,
     "metadata": {
      "tags": []
     },
     "output_type": "execute_result"
    }
   ],
   "source": [
    "model.fit(x_train, y_train, epochs = 100)"
   ]
  },
  {
   "cell_type": "code",
   "execution_count": 39,
   "metadata": {
    "colab": {
     "base_uri": "https://localhost:8080/"
    },
    "executionInfo": {
     "elapsed": 666997,
     "status": "ok",
     "timestamp": 1605026758068,
     "user": {
      "displayName": "Anurag Srivastava",
      "photoUrl": "",
      "userId": "16067493457319522987"
     },
     "user_tz": -330
    },
    "id": "K5aTgWd2wwX8",
    "outputId": "13657267-b4af-49cc-d066-a96e6f95beb9"
   },
   "outputs": [
    {
     "data": {
      "text/plain": [
       "array([[-0.06181623],\n",
       "       [-5.84429147],\n",
       "       [ 2.32285226],\n",
       "       [-0.25506046],\n",
       "       [ 0.96682276],\n",
       "       [ 0.84736193],\n",
       "       [ 0.05613645],\n",
       "       [-0.69081484],\n",
       "       [-0.99036286],\n",
       "       [ 1.04738234],\n",
       "       [ 0.57386558],\n",
       "       [ 0.21349135],\n",
       "       [ 0.22621221],\n",
       "       [-1.41560869],\n",
       "       [ 0.10481638],\n",
       "       [-0.58223417],\n",
       "       [ 1.77458753],\n",
       "       [-0.65847284],\n",
       "       [-0.7221949 ],\n",
       "       [ 3.79477262],\n",
       "       [ 0.28600709],\n",
       "       [-0.09972047],\n",
       "       [ 1.50300011],\n",
       "       [ 0.8546915 ],\n",
       "       [-0.10753343],\n",
       "       [-1.21433926],\n",
       "       [-0.30526163],\n",
       "       [-0.45738235],\n",
       "       [ 0.3672753 ],\n",
       "       [-0.36577126],\n",
       "       [ 0.08179721],\n",
       "       [-0.25500424],\n",
       "       [ 0.04445114],\n",
       "       [ 0.24205362],\n",
       "       [-0.45093438],\n",
       "       [ 0.51354845],\n",
       "       [ 0.29078517],\n",
       "       [-0.0943642 ],\n",
       "       [ 0.05047512],\n",
       "       [-0.69184071],\n",
       "       [ 0.47598146],\n",
       "       [ 0.16135852],\n",
       "       [-0.23175454],\n",
       "       [-0.45755873],\n",
       "       [-0.79163619],\n",
       "       [ 0.00911049],\n",
       "       [ 1.8609893 ],\n",
       "       [ 0.51754848],\n",
       "       [ 0.12649914],\n",
       "       [ 0.51072822],\n",
       "       [ 0.61930039],\n",
       "       [ 0.45861127],\n",
       "       [-0.58214883],\n",
       "       [ 0.37424329],\n",
       "       [ 1.98657414],\n",
       "       [-1.31586817],\n",
       "       [-0.82127723],\n",
       "       [-0.72030025],\n",
       "       [ 0.38890966],\n",
       "       [-0.05117532],\n",
       "       [ 0.24676879],\n",
       "       [ 0.2624797 ],\n",
       "       [ 0.70702828],\n",
       "       [ 0.26613408],\n",
       "       [-0.0274152 ],\n",
       "       [ 0.25690938],\n",
       "       [ 0.77586627],\n",
       "       [-0.29940958],\n",
       "       [ 0.19490875],\n",
       "       [-0.60507648],\n",
       "       [-0.15038818],\n",
       "       [-0.02340973],\n",
       "       [-0.12154552],\n",
       "       [ 0.99035079],\n",
       "       [ 0.07895487],\n",
       "       [ 0.0613243 ],\n",
       "       [ 0.70051939],\n",
       "       [-0.21582774],\n",
       "       [-0.64817738],\n",
       "       [-0.40130997],\n",
       "       [-0.04021884],\n",
       "       [-1.23251917],\n",
       "       [ 2.68996815],\n",
       "       [-0.50082143],\n",
       "       [ 0.58618825],\n",
       "       [-1.01364825],\n",
       "       [-1.67451018],\n",
       "       [-0.11599315],\n",
       "       [-0.74397222],\n",
       "       [-1.13956124],\n",
       "       [-3.46308448],\n",
       "       [ 0.78127445],\n",
       "       [ 0.56023939],\n",
       "       [-0.37983153],\n",
       "       [-0.45341795],\n",
       "       [-1.92204777],\n",
       "       [ 0.97301203],\n",
       "       [-1.30228149],\n",
       "       [-1.10702539],\n",
       "       [-0.34774055],\n",
       "       [-0.36462591],\n",
       "       [-0.4010299 ],\n",
       "       [ 0.17037711],\n",
       "       [-1.1670515 ],\n",
       "       [-0.7075888 ],\n",
       "       [ 1.97243317],\n",
       "       [ 0.79924296],\n",
       "       [ 0.71535378],\n",
       "       [ 1.40037674],\n",
       "       [ 0.60616916],\n",
       "       [ 0.53730385],\n",
       "       [-0.30997241],\n",
       "       [-0.13913321],\n",
       "       [-0.54413338],\n",
       "       [ 0.21514318],\n",
       "       [ 1.22253902],\n",
       "       [-0.29505501],\n",
       "       [ 0.33389863],\n",
       "       [-0.32298259],\n",
       "       [-0.18505494],\n",
       "       [-0.9972812 ],\n",
       "       [ 1.11409561],\n",
       "       [-0.14454358],\n",
       "       [-0.65028638],\n",
       "       [ 0.92536339],\n",
       "       [ 0.20871699],\n",
       "       [ 0.34832111],\n",
       "       [-0.17785184],\n",
       "       [-1.31045118],\n",
       "       [ 0.2227675 ],\n",
       "       [ 0.4402522 ],\n",
       "       [-0.5452813 ],\n",
       "       [ 0.31364678],\n",
       "       [ 0.41191949],\n",
       "       [-0.32589021],\n",
       "       [-0.45006687],\n",
       "       [ 0.52468449],\n",
       "       [-0.98408003],\n",
       "       [ 1.18440484],\n",
       "       [ 0.32139304],\n",
       "       [-0.17402866],\n",
       "       [-0.58114315],\n",
       "       [ 0.07230803],\n",
       "       [ 0.40867872],\n",
       "       [-0.37366148],\n",
       "       [ 1.04379579],\n",
       "       [-1.36929011],\n",
       "       [-1.34168309],\n",
       "       [-3.13182251],\n",
       "       [ 0.95920552],\n",
       "       [ 0.46703562],\n",
       "       [ 1.13859221],\n",
       "       [-0.81571989],\n",
       "       [-0.27294774],\n",
       "       [ 2.3032851 ],\n",
       "       [-1.83567837],\n",
       "       [-0.41322129],\n",
       "       [ 1.22691373],\n",
       "       [ 0.94277294],\n",
       "       [-0.12458118],\n",
       "       [ 0.49477233],\n",
       "       [-0.1758913 ],\n",
       "       [-2.78014238],\n",
       "       [ 0.96315645],\n",
       "       [-0.77494663],\n",
       "       [ 0.25783617],\n",
       "       [ 0.84449623],\n",
       "       [-0.20144896],\n",
       "       [-0.96318939],\n",
       "       [ 0.84648585],\n",
       "       [ 0.99485863],\n",
       "       [-0.13269159],\n",
       "       [ 0.11760295],\n",
       "       [ 0.55070326],\n",
       "       [ 1.69757738],\n",
       "       [-0.25565754],\n",
       "       [-1.24387504],\n",
       "       [ 0.17442472],\n",
       "       [ 0.08149708],\n",
       "       [ 0.41101708],\n",
       "       [-0.59364182],\n",
       "       [-0.96631569],\n",
       "       [ 0.13366401],\n",
       "       [-0.40022098],\n",
       "       [ 0.75597997],\n",
       "       [-0.42333382],\n",
       "       [-0.40659521],\n",
       "       [ 1.22350429],\n",
       "       [ 0.03157329],\n",
       "       [-1.56608232],\n",
       "       [ 0.36024658],\n",
       "       [ 1.48158334],\n",
       "       [-0.11466606],\n",
       "       [-0.79969193],\n",
       "       [ 0.54537263],\n",
       "       [ 0.64628579],\n",
       "       [ 1.39930792],\n",
       "       [-0.20992574],\n",
       "       [-0.26113913],\n",
       "       [-0.35901884],\n",
       "       [ 0.09554372],\n",
       "       [ 0.14834975],\n",
       "       [ 0.86807981],\n",
       "       [-0.25855722],\n",
       "       [ 0.64286863],\n",
       "       [-0.03289851],\n",
       "       [ 0.57958686],\n",
       "       [ 0.44762128],\n",
       "       [-1.45473985],\n",
       "       [-0.13438528]])"
      ]
     },
     "execution_count": 39,
     "metadata": {
      "tags": []
     },
     "output_type": "execute_result"
    }
   ],
   "source": [
    "test"
   ]
  },
  {
   "cell_type": "markdown",
   "metadata": {
    "id": "YC1XDdYUwwX_"
   },
   "source": [
    "## Test Data Preparation"
   ]
  },
  {
   "cell_type": "code",
   "execution_count": 40,
   "metadata": {
    "colab": {
     "base_uri": "https://localhost:8080/",
     "height": 195
    },
    "executionInfo": {
     "elapsed": 666978,
     "status": "ok",
     "timestamp": 1605026758072,
     "user": {
      "displayName": "Anurag Srivastava",
      "photoUrl": "",
      "userId": "16067493457319522987"
     },
     "user_tz": -330
    },
    "id": "jWDgW0pRwwYA",
    "outputId": "8d74d2c1-b36c-4b0d-bcfd-1b165ae1c48f"
   },
   "outputs": [
    {
     "data": {
      "text/html": [
       "<div>\n",
       "<style scoped>\n",
       "    .dataframe tbody tr th:only-of-type {\n",
       "        vertical-align: middle;\n",
       "    }\n",
       "\n",
       "    .dataframe tbody tr th {\n",
       "        vertical-align: top;\n",
       "    }\n",
       "\n",
       "    .dataframe thead th {\n",
       "        text-align: right;\n",
       "    }\n",
       "</style>\n",
       "<table border=\"1\" class=\"dataframe\">\n",
       "  <thead>\n",
       "    <tr style=\"text-align: right;\">\n",
       "      <th></th>\n",
       "      <th>return</th>\n",
       "    </tr>\n",
       "  </thead>\n",
       "  <tbody>\n",
       "    <tr>\n",
       "      <th>2264</th>\n",
       "      <td>0.001141</td>\n",
       "    </tr>\n",
       "    <tr>\n",
       "      <th>2265</th>\n",
       "      <td>-0.099607</td>\n",
       "    </tr>\n",
       "    <tr>\n",
       "      <th>2266</th>\n",
       "      <td>0.042689</td>\n",
       "    </tr>\n",
       "    <tr>\n",
       "      <th>2267</th>\n",
       "      <td>-0.002226</td>\n",
       "    </tr>\n",
       "    <tr>\n",
       "      <th>2268</th>\n",
       "      <td>0.019063</td>\n",
       "    </tr>\n",
       "  </tbody>\n",
       "</table>\n",
       "</div>"
      ],
      "text/plain": [
       "        return\n",
       "2264  0.001141\n",
       "2265 -0.099607\n",
       "2266  0.042689\n",
       "2267 -0.002226\n",
       "2268  0.019063"
      ]
     },
     "execution_count": 40,
     "metadata": {
      "tags": []
     },
     "output_type": "execute_result"
    }
   ],
   "source": [
    "test_prep.head()"
   ]
  },
  {
   "cell_type": "code",
   "execution_count": 41,
   "metadata": {
    "executionInfo": {
     "elapsed": 666970,
     "status": "ok",
     "timestamp": 1605026758081,
     "user": {
      "displayName": "Anurag Srivastava",
      "photoUrl": "",
      "userId": "16067493457319522987"
     },
     "user_tz": -330
    },
    "id": "Z6BWEFtv2ffX"
   },
   "outputs": [],
   "source": [
    "last_10_days = train_prep.tail(10)"
   ]
  },
  {
   "cell_type": "code",
   "execution_count": 42,
   "metadata": {
    "executionInfo": {
     "elapsed": 666958,
     "status": "ok",
     "timestamp": 1605026758082,
     "user": {
      "displayName": "Anurag Srivastava",
      "photoUrl": "",
      "userId": "16067493457319522987"
     },
     "user_tz": -330
    },
    "id": "qcJ2fkR42qoh"
   },
   "outputs": [],
   "source": [
    "test_prep = last_10_days.append(test_prep)"
   ]
  },
  {
   "cell_type": "code",
   "execution_count": 43,
   "metadata": {
    "colab": {
     "base_uri": "https://localhost:8080/",
     "height": 402
    },
    "executionInfo": {
     "elapsed": 666940,
     "status": "ok",
     "timestamp": 1605026758084,
     "user": {
      "displayName": "Anurag Srivastava",
      "photoUrl": "",
      "userId": "16067493457319522987"
     },
     "user_tz": -330
    },
    "id": "9ZF-osBO2xzp",
    "outputId": "dac5ccb4-5b53-46f2-d394-09d845aee02e"
   },
   "outputs": [
    {
     "data": {
      "text/html": [
       "<div>\n",
       "<style scoped>\n",
       "    .dataframe tbody tr th:only-of-type {\n",
       "        vertical-align: middle;\n",
       "    }\n",
       "\n",
       "    .dataframe tbody tr th {\n",
       "        vertical-align: top;\n",
       "    }\n",
       "\n",
       "    .dataframe thead th {\n",
       "        text-align: right;\n",
       "    }\n",
       "</style>\n",
       "<table border=\"1\" class=\"dataframe\">\n",
       "  <thead>\n",
       "    <tr style=\"text-align: right;\">\n",
       "      <th></th>\n",
       "      <th>return</th>\n",
       "    </tr>\n",
       "  </thead>\n",
       "  <tbody>\n",
       "    <tr>\n",
       "      <th>2254</th>\n",
       "      <td>-0.009306</td>\n",
       "    </tr>\n",
       "    <tr>\n",
       "      <th>2255</th>\n",
       "      <td>0.012993</td>\n",
       "    </tr>\n",
       "    <tr>\n",
       "      <th>2256</th>\n",
       "      <td>-0.031192</td>\n",
       "    </tr>\n",
       "    <tr>\n",
       "      <th>2257</th>\n",
       "      <td>-0.025235</td>\n",
       "    </tr>\n",
       "    <tr>\n",
       "      <th>2258</th>\n",
       "      <td>-0.038896</td>\n",
       "    </tr>\n",
       "    <tr>\n",
       "      <th>...</th>\n",
       "      <td>...</td>\n",
       "    </tr>\n",
       "    <tr>\n",
       "      <th>2469</th>\n",
       "      <td>0.001645</td>\n",
       "    </tr>\n",
       "    <tr>\n",
       "      <th>2470</th>\n",
       "      <td>0.012316</td>\n",
       "    </tr>\n",
       "    <tr>\n",
       "      <th>2471</th>\n",
       "      <td>0.010017</td>\n",
       "    </tr>\n",
       "    <tr>\n",
       "      <th>2472</th>\n",
       "      <td>-0.023128</td>\n",
       "    </tr>\n",
       "    <tr>\n",
       "      <th>2473</th>\n",
       "      <td>-0.000123</td>\n",
       "    </tr>\n",
       "  </tbody>\n",
       "</table>\n",
       "<p>220 rows × 1 columns</p>\n",
       "</div>"
      ],
      "text/plain": [
       "        return\n",
       "2254 -0.009306\n",
       "2255  0.012993\n",
       "2256 -0.031192\n",
       "2257 -0.025235\n",
       "2258 -0.038896\n",
       "...        ...\n",
       "2469  0.001645\n",
       "2470  0.012316\n",
       "2471  0.010017\n",
       "2472 -0.023128\n",
       "2473 -0.000123\n",
       "\n",
       "[220 rows x 1 columns]"
      ]
     },
     "execution_count": 43,
     "metadata": {
      "tags": []
     },
     "output_type": "execute_result"
    }
   ],
   "source": [
    "test_prep"
   ]
  },
  {
   "cell_type": "code",
   "execution_count": 44,
   "metadata": {
    "executionInfo": {
     "elapsed": 666927,
     "status": "ok",
     "timestamp": 1605026758087,
     "user": {
      "displayName": "Anurag Srivastava",
      "photoUrl": "",
      "userId": "16067493457319522987"
     },
     "user_tz": -330
    },
    "id": "hjQe2u2d2zV4"
   },
   "outputs": [],
   "source": [
    "test_prep = test_prep.reset_index()"
   ]
  },
  {
   "cell_type": "code",
   "execution_count": 45,
   "metadata": {
    "executionInfo": {
     "elapsed": 666917,
     "status": "ok",
     "timestamp": 1605026758090,
     "user": {
      "displayName": "Anurag Srivastava",
      "photoUrl": "",
      "userId": "16067493457319522987"
     },
     "user_tz": -330
    },
    "id": "Z7VibsT326xX"
   },
   "outputs": [],
   "source": [
    "test_prep.drop(['index'], axis=1, inplace=True)"
   ]
  },
  {
   "cell_type": "code",
   "execution_count": 46,
   "metadata": {
    "colab": {
     "base_uri": "https://localhost:8080/",
     "height": 402
    },
    "executionInfo": {
     "elapsed": 666902,
     "status": "ok",
     "timestamp": 1605026758097,
     "user": {
      "displayName": "Anurag Srivastava",
      "photoUrl": "",
      "userId": "16067493457319522987"
     },
     "user_tz": -330
    },
    "id": "StNKedMo3B30",
    "outputId": "63fef46f-6f7f-4880-e489-6a0bbd8876e1"
   },
   "outputs": [
    {
     "data": {
      "text/html": [
       "<div>\n",
       "<style scoped>\n",
       "    .dataframe tbody tr th:only-of-type {\n",
       "        vertical-align: middle;\n",
       "    }\n",
       "\n",
       "    .dataframe tbody tr th {\n",
       "        vertical-align: top;\n",
       "    }\n",
       "\n",
       "    .dataframe thead th {\n",
       "        text-align: right;\n",
       "    }\n",
       "</style>\n",
       "<table border=\"1\" class=\"dataframe\">\n",
       "  <thead>\n",
       "    <tr style=\"text-align: right;\">\n",
       "      <th></th>\n",
       "      <th>return</th>\n",
       "    </tr>\n",
       "  </thead>\n",
       "  <tbody>\n",
       "    <tr>\n",
       "      <th>0</th>\n",
       "      <td>-0.009306</td>\n",
       "    </tr>\n",
       "    <tr>\n",
       "      <th>1</th>\n",
       "      <td>0.012993</td>\n",
       "    </tr>\n",
       "    <tr>\n",
       "      <th>2</th>\n",
       "      <td>-0.031192</td>\n",
       "    </tr>\n",
       "    <tr>\n",
       "      <th>3</th>\n",
       "      <td>-0.025235</td>\n",
       "    </tr>\n",
       "    <tr>\n",
       "      <th>4</th>\n",
       "      <td>-0.038896</td>\n",
       "    </tr>\n",
       "    <tr>\n",
       "      <th>...</th>\n",
       "      <td>...</td>\n",
       "    </tr>\n",
       "    <tr>\n",
       "      <th>215</th>\n",
       "      <td>0.001645</td>\n",
       "    </tr>\n",
       "    <tr>\n",
       "      <th>216</th>\n",
       "      <td>0.012316</td>\n",
       "    </tr>\n",
       "    <tr>\n",
       "      <th>217</th>\n",
       "      <td>0.010017</td>\n",
       "    </tr>\n",
       "    <tr>\n",
       "      <th>218</th>\n",
       "      <td>-0.023128</td>\n",
       "    </tr>\n",
       "    <tr>\n",
       "      <th>219</th>\n",
       "      <td>-0.000123</td>\n",
       "    </tr>\n",
       "  </tbody>\n",
       "</table>\n",
       "<p>220 rows × 1 columns</p>\n",
       "</div>"
      ],
      "text/plain": [
       "       return\n",
       "0   -0.009306\n",
       "1    0.012993\n",
       "2   -0.031192\n",
       "3   -0.025235\n",
       "4   -0.038896\n",
       "..        ...\n",
       "215  0.001645\n",
       "216  0.012316\n",
       "217  0.010017\n",
       "218 -0.023128\n",
       "219 -0.000123\n",
       "\n",
       "[220 rows x 1 columns]"
      ]
     },
     "execution_count": 46,
     "metadata": {
      "tags": []
     },
     "output_type": "execute_result"
    }
   ],
   "source": [
    "test_prep"
   ]
  },
  {
   "cell_type": "code",
   "execution_count": 47,
   "metadata": {
    "executionInfo": {
     "elapsed": 666889,
     "status": "ok",
     "timestamp": 1605026758101,
     "user": {
      "displayName": "Anurag Srivastava",
      "photoUrl": "",
      "userId": "16067493457319522987"
     },
     "user_tz": -330
    },
    "id": "ysTB28X43DT9"
   },
   "outputs": [],
   "source": [
    "test_prep = scaler.fit_transform(test_prep)"
   ]
  },
  {
   "cell_type": "code",
   "execution_count": 48,
   "metadata": {
    "executionInfo": {
     "elapsed": 666883,
     "status": "ok",
     "timestamp": 1605026758105,
     "user": {
      "displayName": "Anurag Srivastava",
      "photoUrl": "",
      "userId": "16067493457319522987"
     },
     "user_tz": -330
    },
    "id": "ILsVBkgh3K8H"
   },
   "outputs": [],
   "source": [
    "test_prep = np.array(test_prep)"
   ]
  },
  {
   "cell_type": "code",
   "execution_count": 49,
   "metadata": {
    "colab": {
     "base_uri": "https://localhost:8080/"
    },
    "executionInfo": {
     "elapsed": 666878,
     "status": "ok",
     "timestamp": 1605026758113,
     "user": {
      "displayName": "Anurag Srivastava",
      "photoUrl": "",
      "userId": "16067493457319522987"
     },
     "user_tz": -330
    },
    "id": "4LrYOCEj3S2I",
    "outputId": "71249453-66bb-47e7-a4bf-a7870f7d610a"
   },
   "outputs": [
    {
     "data": {
      "text/plain": [
       "(220, 1)"
      ]
     },
     "execution_count": 49,
     "metadata": {
      "tags": []
     },
     "output_type": "execute_result"
    }
   ],
   "source": [
    "test_prep.shape"
   ]
  },
  {
   "cell_type": "code",
   "execution_count": 50,
   "metadata": {
    "executionInfo": {
     "elapsed": 666871,
     "status": "ok",
     "timestamp": 1605026758119,
     "user": {
      "displayName": "Anurag Srivastava",
      "photoUrl": "",
      "userId": "16067493457319522987"
     },
     "user_tz": -330
    },
    "id": "5EkibvKK3dM2"
   },
   "outputs": [],
   "source": [
    "x_test = []\n",
    "y_test = []"
   ]
  },
  {
   "cell_type": "code",
   "execution_count": 51,
   "metadata": {
    "executionInfo": {
     "elapsed": 666867,
     "status": "ok",
     "timestamp": 1605026758126,
     "user": {
      "displayName": "Anurag Srivastava",
      "photoUrl": "",
      "userId": "16067493457319522987"
     },
     "user_tz": -330
    },
    "id": "NO4h_MPa3ic1"
   },
   "outputs": [],
   "source": [
    "for i in range(10, test_prep.shape[0]):\n",
    "  x_test.append(test_prep[i-10:i])\n",
    "  y_test.append(test_prep[i,0])"
   ]
  },
  {
   "cell_type": "code",
   "execution_count": 52,
   "metadata": {
    "executionInfo": {
     "elapsed": 666857,
     "status": "ok",
     "timestamp": 1605026758129,
     "user": {
      "displayName": "Anurag Srivastava",
      "photoUrl": "",
      "userId": "16067493457319522987"
     },
     "user_tz": -330
    },
    "id": "Bf24yAvr3qiY"
   },
   "outputs": [],
   "source": [
    "x_test, y_test = np.array(x_test), np.array(y_test)\n"
   ]
  },
  {
   "cell_type": "markdown",
   "metadata": {
    "id": "zWnrTdR-319l"
   },
   "source": [
    "## Single Step Prediction"
   ]
  },
  {
   "cell_type": "code",
   "execution_count": 53,
   "metadata": {
    "executionInfo": {
     "elapsed": 667243,
     "status": "ok",
     "timestamp": 1605026758525,
     "user": {
      "displayName": "Anurag Srivastava",
      "photoUrl": "",
      "userId": "16067493457319522987"
     },
     "user_tz": -330
    },
    "id": "XC1LNvVX3yKO"
   },
   "outputs": [],
   "source": [
    "y_pred = model.predict(x_test)"
   ]
  },
  {
   "cell_type": "code",
   "execution_count": 54,
   "metadata": {
    "colab": {
     "base_uri": "https://localhost:8080/",
     "height": 500
    },
    "executionInfo": {
     "elapsed": 668319,
     "status": "ok",
     "timestamp": 1605026759620,
     "user": {
      "displayName": "Anurag Srivastava",
      "photoUrl": "",
      "userId": "16067493457319522987"
     },
     "user_tz": -330
    },
    "id": "4YhNapX13-Rj",
    "outputId": "6d42e7a4-ef1c-4d1e-ea36-5d4b75159f32"
   },
   "outputs": [
    {
     "data": {
      "text/plain": [
       "[<matplotlib.lines.Line2D at 0x7fe58c417780>]"
      ]
     },
     "execution_count": 54,
     "metadata": {
      "tags": []
     },
     "output_type": "execute_result"
    },
    {
     "data": {
      "image/png": "[encoded data removed]",
      "text/plain": [
       "<Figure size 864x576 with 1 Axes>"
      ]
     },
     "metadata": {
      "needs_background": "light",
      "tags": []
     },
     "output_type": "display_data"
    }
   ],
   "source": [
    "plt.figure(figsize=(12,8))\n",
    "plt.plot(y_pred, label = 'y_pred')\n",
    "plt.plot(y_test, label = 'y_true')"
   ]
  },
  {
   "cell_type": "markdown",
   "metadata": {
    "id": "-c-rsth84JpS"
   },
   "source": [
    "## Multi-Step Prediction"
   ]
  },
  {
   "cell_type": "code",
   "execution_count": 55,
   "metadata": {
    "executionInfo": {
     "elapsed": 677960,
     "status": "ok",
     "timestamp": 1605026769277,
     "user": {
      "displayName": "Anurag Srivastava",
      "photoUrl": "",
      "userId": "16067493457319522987"
     },
     "user_tz": -330
    },
    "id": "LlxbIb8t4DHK"
   },
   "outputs": [],
   "source": [
    "temp_x = x_test[0]\n",
    "\n",
    "for i in range(0, x_test.shape[0]):\n",
    "  y_temp = model.predict(temp_x[i:].reshape(1,10,1))\n",
    "  temp_x = np.append(temp_x, y_temp)\n",
    "  temp_x.reshape(11+i, 1)"
   ]
  },
  {
   "cell_type": "code",
   "execution_count": 56,
   "metadata": {
    "colab": {
     "base_uri": "https://localhost:8080/"
    },
    "executionInfo": {
     "elapsed": 677947,
     "status": "ok",
     "timestamp": 1605026769280,
     "user": {
      "displayName": "Anurag Srivastava",
      "photoUrl": "",
      "userId": "16067493457319522987"
     },
     "user_tz": -330
    },
    "id": "Z1AOVTq698E9",
    "outputId": "322a37b9-ff2f-439a-da7c-899b9a054bc8"
   },
   "outputs": [
    {
     "data": {
      "text/plain": [
       "array([-0.61581212,  0.60738388, -1.81633529, -1.48956006, -2.23893328,\n",
       "       -1.52463564,  3.75763553, -0.46131858, -0.07721709,  0.424866  ,\n",
       "       -0.00435659, -0.10122098, -0.29193282, -0.28209764, -0.21085605,\n",
       "       -0.07463987,  0.01133045,  0.05112859,  0.06050827,  0.06225939,\n",
       "        0.06426314,  0.06131683,  0.05768979,  0.05660019,  0.05599689,\n",
       "        0.05574384,  0.0555124 ,  0.05553002,  0.05563176,  0.05575674,\n",
       "        0.05587906,  0.05594417,  0.05596617,  0.05597328,  0.05597197,\n",
       "        0.0559659 ,  0.05595826,  0.05595187,  0.05594759,  0.05594549,\n",
       "        0.0559449 ,  0.05594503,  0.05594545,  0.0559459 ,  0.05594628,\n",
       "        0.05594656,  0.05594671,  0.05594674,  0.05594674,  0.05594672,\n",
       "        0.05594669,  0.05594667,  0.05594665,  0.05594665,  0.05594664,\n",
       "        0.05594664,  0.05594664,  0.05594664,  0.05594664,  0.05594664,\n",
       "        0.05594664,  0.05594664,  0.05594664,  0.05594664,  0.05594664,\n",
       "        0.05594664,  0.05594664,  0.05594664,  0.05594664,  0.05594664,\n",
       "        0.05594664,  0.05594664,  0.05594664,  0.05594664,  0.05594664,\n",
       "        0.05594664,  0.05594664,  0.05594664,  0.05594664,  0.05594664,\n",
       "        0.05594664,  0.05594664,  0.05594664,  0.05594664,  0.05594664,\n",
       "        0.05594664,  0.05594664,  0.05594664,  0.05594664,  0.05594664,\n",
       "        0.05594664,  0.05594664,  0.05594664,  0.05594664,  0.05594664,\n",
       "        0.05594664,  0.05594664,  0.05594664,  0.05594664,  0.05594664,\n",
       "        0.05594664,  0.05594664,  0.05594664,  0.05594664,  0.05594664,\n",
       "        0.05594664,  0.05594664,  0.05594664,  0.05594664,  0.05594664,\n",
       "        0.05594664,  0.05594664,  0.05594664,  0.05594664,  0.05594664,\n",
       "        0.05594664,  0.05594664,  0.05594664,  0.05594664,  0.05594664,\n",
       "        0.05594664,  0.05594664,  0.05594664,  0.05594664,  0.05594664,\n",
       "        0.05594664,  0.05594664,  0.05594664,  0.05594664,  0.05594664,\n",
       "        0.05594664,  0.05594664,  0.05594664,  0.05594664,  0.05594664,\n",
       "        0.05594664,  0.05594664,  0.05594664,  0.05594664,  0.05594664,\n",
       "        0.05594664,  0.05594664,  0.05594664,  0.05594664,  0.05594664,\n",
       "        0.05594664,  0.05594664,  0.05594664,  0.05594664,  0.05594664,\n",
       "        0.05594664,  0.05594664,  0.05594664,  0.05594664,  0.05594664,\n",
       "        0.05594664,  0.05594664,  0.05594664,  0.05594664,  0.05594664,\n",
       "        0.05594664,  0.05594664,  0.05594664,  0.05594664,  0.05594664,\n",
       "        0.05594664,  0.05594664,  0.05594664,  0.05594664,  0.05594664,\n",
       "        0.05594664,  0.05594664,  0.05594664,  0.05594664,  0.05594664,\n",
       "        0.05594664,  0.05594664,  0.05594664,  0.05594664,  0.05594664,\n",
       "        0.05594664,  0.05594664,  0.05594664,  0.05594664,  0.05594664,\n",
       "        0.05594664,  0.05594664,  0.05594664,  0.05594664,  0.05594664,\n",
       "        0.05594664,  0.05594664,  0.05594664,  0.05594664,  0.05594664,\n",
       "        0.05594664,  0.05594664,  0.05594664,  0.05594664,  0.05594664,\n",
       "        0.05594664,  0.05594664,  0.05594664,  0.05594664,  0.05594664,\n",
       "        0.05594664,  0.05594664,  0.05594664,  0.05594664,  0.05594664,\n",
       "        0.05594664,  0.05594664,  0.05594664,  0.05594664,  0.05594664,\n",
       "        0.05594664,  0.05594664,  0.05594664,  0.05594664,  0.05594664])"
      ]
     },
     "execution_count": 56,
     "metadata": {
      "tags": []
     },
     "output_type": "execute_result"
    }
   ],
   "source": [
    "temp_x"
   ]
  },
  {
   "cell_type": "code",
   "execution_count": 57,
   "metadata": {
    "executionInfo": {
     "elapsed": 677935,
     "status": "ok",
     "timestamp": 1605026769282,
     "user": {
      "displayName": "Anurag Srivastava",
      "photoUrl": "",
      "userId": "16067493457319522987"
     },
     "user_tz": -330
    },
    "id": "1f0oEAWI-BIW"
   },
   "outputs": [],
   "source": [
    "y_multistep = temp_x[10:]"
   ]
  },
  {
   "cell_type": "code",
   "execution_count": 58,
   "metadata": {
    "colab": {
     "base_uri": "https://localhost:8080/",
     "height": 500
    },
    "executionInfo": {
     "elapsed": 677917,
     "status": "ok",
     "timestamp": 1605026769284,
     "user": {
      "displayName": "Anurag Srivastava",
      "photoUrl": "",
      "userId": "16067493457319522987"
     },
     "user_tz": -330
    },
    "id": "8iEz9LGU-OB3",
    "outputId": "b4135273-8da1-4dcf-c49e-7897c1155d6a"
   },
   "outputs": [
    {
     "data": {
      "text/plain": [
       "[<matplotlib.lines.Line2D at 0x7fe58b819438>]"
      ]
     },
     "execution_count": 58,
     "metadata": {
      "tags": []
     },
     "output_type": "execute_result"
    },
    {
     "data": {
      "image/png": "[encoded data removed]",
      "text/plain": [
       "<Figure size 864x576 with 1 Axes>"
      ]
     },
     "metadata": {
      "needs_background": "light",
      "tags": []
     },
     "output_type": "display_data"
    }
   ],
   "source": [
    "plt.figure(figsize= (12,8))\n",
    "plt.plot(y_test)\n",
    "plt.plot(y_multistep)"
   ]
  },
  {
   "cell_type": "markdown",
   "metadata": {
    "id": "xGlFUoJ1-WyG"
   },
   "source": [
    "So, Even the prediction of return is not feasible with the LSTM model. The graphs show the same trend as in the first notebook. Also, the result for the single-step prediction is even worse in this case.\n",
    "\n",
    "Now, We can also try to classify the return value in +ve or -ve return that'll also be of huge value. "
   ]
  }
 ],
 "metadata": {
  "accelerator": "GPU",
  "colab": {
   "collapsed_sections": [
    "uM9gk5W4wwWs"
   ],
   "name": "Return Prediction on Close price.ipynb",
   "provenance": []
  },
  "kernelspec": {
   "display_name": "Python 3",
   "language": "python",
   "name": "python3"
  },
  "language_info": {
   "codemirror_mode": {
    "name": "ipython",
    "version": 3
   },
   "file_extension": ".py",
   "mimetype": "text/x-python",
   "name": "python",
   "nbconvert_exporter": "python",
   "pygments_lexer": "ipython3",
   "version": "3.7.9"
  }
 },
 "nbformat": 4,
 "nbformat_minor": 1
}
