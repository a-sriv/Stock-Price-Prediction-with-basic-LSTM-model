{
 "cells": [
  {
   "cell_type": "markdown",
   "metadata": {
    "id": "YLIy4tUPlHZ5"
   },
   "source": [
    "## **Imports and Data Split**"
   ]
  },
  {
   "cell_type": "code",
   "execution_count": null,
   "metadata": {
    "id": "PJWcRmjQizy9"
   },
   "outputs": [],
   "source": [
    "%tensorflow_version 2.x"
   ]
  },
  {
   "cell_type": "code",
   "execution_count": null,
   "metadata": {
    "id": "f2u3L83ZjCZM"
   },
   "outputs": [],
   "source": [
    "import tensorflow as tf\n",
    "import numpy as np\n",
    "import pandas as pd\n",
    "import matplotlib.pyplot as plt\n",
    "%matplotlib inline"
   ]
  },
  {
   "cell_type": "code",
   "execution_count": null,
   "metadata": {
    "id": "1ivgqp7JjLzu"
   },
   "outputs": [],
   "source": [
    "df = pd.read_csv('/content/drive/My Drive/Colab Notebooks/Apple Stock Price Prediction practice/AAPL.csv', date_parser=True)"
   ]
  },
  {
   "cell_type": "code",
   "execution_count": null,
   "metadata": {
    "colab": {
     "base_uri": "https://localhost:8080/",
     "height": 195
    },
    "id": "1unYKNDrjVdB",
    "outputId": "ff623f2a-8d55-4e35-a923-465ed20d57b7"
   },
   "outputs": [
    {
     "data": {
      "text/html": [
       "<div>\n",
       "<style scoped>\n",
       "    .dataframe tbody tr th:only-of-type {\n",
       "        vertical-align: middle;\n",
       "    }\n",
       "\n",
       "    .dataframe tbody tr th {\n",
       "        vertical-align: top;\n",
       "    }\n",
       "\n",
       "    .dataframe thead th {\n",
       "        text-align: right;\n",
       "    }\n",
       "</style>\n",
       "<table border=\"1\" class=\"dataframe\">\n",
       "  <thead>\n",
       "    <tr style=\"text-align: right;\">\n",
       "      <th></th>\n",
       "      <th>Date</th>\n",
       "      <th>Open</th>\n",
       "      <th>High</th>\n",
       "      <th>Low</th>\n",
       "      <th>Close</th>\n",
       "      <th>Adj Close</th>\n",
       "      <th>Volume</th>\n",
       "    </tr>\n",
       "  </thead>\n",
       "  <tbody>\n",
       "    <tr>\n",
       "      <th>0</th>\n",
       "      <td>2010-01-04</td>\n",
       "      <td>30.490000</td>\n",
       "      <td>30.642857</td>\n",
       "      <td>30.340000</td>\n",
       "      <td>30.572857</td>\n",
       "      <td>26.466835</td>\n",
       "      <td>123432400</td>\n",
       "    </tr>\n",
       "    <tr>\n",
       "      <th>1</th>\n",
       "      <td>2010-01-05</td>\n",
       "      <td>30.657143</td>\n",
       "      <td>30.798571</td>\n",
       "      <td>30.464285</td>\n",
       "      <td>30.625713</td>\n",
       "      <td>26.512596</td>\n",
       "      <td>150476200</td>\n",
       "    </tr>\n",
       "    <tr>\n",
       "      <th>2</th>\n",
       "      <td>2010-01-06</td>\n",
       "      <td>30.625713</td>\n",
       "      <td>30.747143</td>\n",
       "      <td>30.107143</td>\n",
       "      <td>30.138571</td>\n",
       "      <td>26.090879</td>\n",
       "      <td>138040000</td>\n",
       "    </tr>\n",
       "    <tr>\n",
       "      <th>3</th>\n",
       "      <td>2010-01-07</td>\n",
       "      <td>30.250000</td>\n",
       "      <td>30.285715</td>\n",
       "      <td>29.864286</td>\n",
       "      <td>30.082857</td>\n",
       "      <td>26.042646</td>\n",
       "      <td>119282800</td>\n",
       "    </tr>\n",
       "    <tr>\n",
       "      <th>4</th>\n",
       "      <td>2010-01-08</td>\n",
       "      <td>30.042856</td>\n",
       "      <td>30.285715</td>\n",
       "      <td>29.865715</td>\n",
       "      <td>30.282858</td>\n",
       "      <td>26.215786</td>\n",
       "      <td>111902700</td>\n",
       "    </tr>\n",
       "  </tbody>\n",
       "</table>\n",
       "</div>"
      ],
      "text/plain": [
       "         Date       Open       High        Low      Close  Adj Close     Volume\n",
       "0  2010-01-04  30.490000  30.642857  30.340000  30.572857  26.466835  123432400\n",
       "1  2010-01-05  30.657143  30.798571  30.464285  30.625713  26.512596  150476200\n",
       "2  2010-01-06  30.625713  30.747143  30.107143  30.138571  26.090879  138040000\n",
       "3  2010-01-07  30.250000  30.285715  29.864286  30.082857  26.042646  119282800\n",
       "4  2010-01-08  30.042856  30.285715  29.865715  30.282858  26.215786  111902700"
      ]
     },
     "execution_count": 4,
     "metadata": {
      "tags": []
     },
     "output_type": "execute_result"
    }
   ],
   "source": [
    "df.head()"
   ]
  },
  {
   "cell_type": "code",
   "execution_count": null,
   "metadata": {
    "colab": {
     "base_uri": "https://localhost:8080/",
     "height": 195
    },
    "id": "kLOKvZZFjaSS",
    "outputId": "8f50dc20-cff7-406b-b33f-594939e2f2bb"
   },
   "outputs": [
    {
     "data": {
      "text/html": [
       "<div>\n",
       "<style scoped>\n",
       "    .dataframe tbody tr th:only-of-type {\n",
       "        vertical-align: middle;\n",
       "    }\n",
       "\n",
       "    .dataframe tbody tr th {\n",
       "        vertical-align: top;\n",
       "    }\n",
       "\n",
       "    .dataframe thead th {\n",
       "        text-align: right;\n",
       "    }\n",
       "</style>\n",
       "<table border=\"1\" class=\"dataframe\">\n",
       "  <thead>\n",
       "    <tr style=\"text-align: right;\">\n",
       "      <th></th>\n",
       "      <th>Date</th>\n",
       "      <th>Open</th>\n",
       "      <th>High</th>\n",
       "      <th>Low</th>\n",
       "      <th>Close</th>\n",
       "      <th>Adj Close</th>\n",
       "      <th>Volume</th>\n",
       "    </tr>\n",
       "  </thead>\n",
       "  <tbody>\n",
       "    <tr>\n",
       "      <th>2469</th>\n",
       "      <td>2019-10-24</td>\n",
       "      <td>244.509995</td>\n",
       "      <td>244.800003</td>\n",
       "      <td>241.809998</td>\n",
       "      <td>243.580002</td>\n",
       "      <td>241.621826</td>\n",
       "      <td>17318800</td>\n",
       "    </tr>\n",
       "    <tr>\n",
       "      <th>2470</th>\n",
       "      <td>2019-10-25</td>\n",
       "      <td>243.160004</td>\n",
       "      <td>246.729996</td>\n",
       "      <td>242.880005</td>\n",
       "      <td>246.580002</td>\n",
       "      <td>244.597717</td>\n",
       "      <td>18369300</td>\n",
       "    </tr>\n",
       "    <tr>\n",
       "      <th>2471</th>\n",
       "      <td>2019-10-28</td>\n",
       "      <td>247.419998</td>\n",
       "      <td>249.250000</td>\n",
       "      <td>246.720001</td>\n",
       "      <td>249.050003</td>\n",
       "      <td>247.047867</td>\n",
       "      <td>24143200</td>\n",
       "    </tr>\n",
       "    <tr>\n",
       "      <th>2472</th>\n",
       "      <td>2019-10-29</td>\n",
       "      <td>248.970001</td>\n",
       "      <td>249.750000</td>\n",
       "      <td>242.570007</td>\n",
       "      <td>243.289993</td>\n",
       "      <td>241.334152</td>\n",
       "      <td>35709900</td>\n",
       "    </tr>\n",
       "    <tr>\n",
       "      <th>2473</th>\n",
       "      <td>2019-10-30</td>\n",
       "      <td>244.759995</td>\n",
       "      <td>245.300003</td>\n",
       "      <td>241.210007</td>\n",
       "      <td>243.259995</td>\n",
       "      <td>241.304398</td>\n",
       "      <td>31130500</td>\n",
       "    </tr>\n",
       "  </tbody>\n",
       "</table>\n",
       "</div>"
      ],
      "text/plain": [
       "            Date        Open        High  ...       Close   Adj Close    Volume\n",
       "2469  2019-10-24  244.509995  244.800003  ...  243.580002  241.621826  17318800\n",
       "2470  2019-10-25  243.160004  246.729996  ...  246.580002  244.597717  18369300\n",
       "2471  2019-10-28  247.419998  249.250000  ...  249.050003  247.047867  24143200\n",
       "2472  2019-10-29  248.970001  249.750000  ...  243.289993  241.334152  35709900\n",
       "2473  2019-10-30  244.759995  245.300003  ...  243.259995  241.304398  31130500\n",
       "\n",
       "[5 rows x 7 columns]"
      ]
     },
     "execution_count": 5,
     "metadata": {
      "tags": []
     },
     "output_type": "execute_result"
    }
   ],
   "source": [
    "df.tail()"
   ]
  },
  {
   "cell_type": "code",
   "execution_count": null,
   "metadata": {
    "id": "fDXrdbSUjfVX"
   },
   "outputs": [],
   "source": [
    "train = df[df['Date']<='2018-12-31']"
   ]
  },
  {
   "cell_type": "code",
   "execution_count": null,
   "metadata": {
    "id": "93JyZspBjzA2"
   },
   "outputs": [],
   "source": [
    "test = df[df['Date']>'2018-12-31']"
   ]
  },
  {
   "cell_type": "code",
   "execution_count": null,
   "metadata": {
    "colab": {
     "base_uri": "https://localhost:8080/",
     "height": 195
    },
    "id": "pzsPRzzfj5cZ",
    "outputId": "116aefea-dd21-443a-f53e-0690009fa715"
   },
   "outputs": [
    {
     "data": {
      "text/html": [
       "<div>\n",
       "<style scoped>\n",
       "    .dataframe tbody tr th:only-of-type {\n",
       "        vertical-align: middle;\n",
       "    }\n",
       "\n",
       "    .dataframe tbody tr th {\n",
       "        vertical-align: top;\n",
       "    }\n",
       "\n",
       "    .dataframe thead th {\n",
       "        text-align: right;\n",
       "    }\n",
       "</style>\n",
       "<table border=\"1\" class=\"dataframe\">\n",
       "  <thead>\n",
       "    <tr style=\"text-align: right;\">\n",
       "      <th></th>\n",
       "      <th>Date</th>\n",
       "      <th>Open</th>\n",
       "      <th>High</th>\n",
       "      <th>Low</th>\n",
       "      <th>Close</th>\n",
       "      <th>Adj Close</th>\n",
       "      <th>Volume</th>\n",
       "    </tr>\n",
       "  </thead>\n",
       "  <tbody>\n",
       "    <tr>\n",
       "      <th>0</th>\n",
       "      <td>2010-01-04</td>\n",
       "      <td>30.490000</td>\n",
       "      <td>30.642857</td>\n",
       "      <td>30.340000</td>\n",
       "      <td>30.572857</td>\n",
       "      <td>26.466835</td>\n",
       "      <td>123432400</td>\n",
       "    </tr>\n",
       "    <tr>\n",
       "      <th>1</th>\n",
       "      <td>2010-01-05</td>\n",
       "      <td>30.657143</td>\n",
       "      <td>30.798571</td>\n",
       "      <td>30.464285</td>\n",
       "      <td>30.625713</td>\n",
       "      <td>26.512596</td>\n",
       "      <td>150476200</td>\n",
       "    </tr>\n",
       "    <tr>\n",
       "      <th>2</th>\n",
       "      <td>2010-01-06</td>\n",
       "      <td>30.625713</td>\n",
       "      <td>30.747143</td>\n",
       "      <td>30.107143</td>\n",
       "      <td>30.138571</td>\n",
       "      <td>26.090879</td>\n",
       "      <td>138040000</td>\n",
       "    </tr>\n",
       "    <tr>\n",
       "      <th>3</th>\n",
       "      <td>2010-01-07</td>\n",
       "      <td>30.250000</td>\n",
       "      <td>30.285715</td>\n",
       "      <td>29.864286</td>\n",
       "      <td>30.082857</td>\n",
       "      <td>26.042646</td>\n",
       "      <td>119282800</td>\n",
       "    </tr>\n",
       "    <tr>\n",
       "      <th>4</th>\n",
       "      <td>2010-01-08</td>\n",
       "      <td>30.042856</td>\n",
       "      <td>30.285715</td>\n",
       "      <td>29.865715</td>\n",
       "      <td>30.282858</td>\n",
       "      <td>26.215786</td>\n",
       "      <td>111902700</td>\n",
       "    </tr>\n",
       "  </tbody>\n",
       "</table>\n",
       "</div>"
      ],
      "text/plain": [
       "         Date       Open       High        Low      Close  Adj Close     Volume\n",
       "0  2010-01-04  30.490000  30.642857  30.340000  30.572857  26.466835  123432400\n",
       "1  2010-01-05  30.657143  30.798571  30.464285  30.625713  26.512596  150476200\n",
       "2  2010-01-06  30.625713  30.747143  30.107143  30.138571  26.090879  138040000\n",
       "3  2010-01-07  30.250000  30.285715  29.864286  30.082857  26.042646  119282800\n",
       "4  2010-01-08  30.042856  30.285715  29.865715  30.282858  26.215786  111902700"
      ]
     },
     "execution_count": 8,
     "metadata": {
      "tags": []
     },
     "output_type": "execute_result"
    }
   ],
   "source": [
    "train.head()"
   ]
  },
  {
   "cell_type": "code",
   "execution_count": null,
   "metadata": {
    "colab": {
     "base_uri": "https://localhost:8080/",
     "height": 101
    },
    "id": "WS_WkvuWj7gj",
    "outputId": "33bb6791-7dc2-482f-e584-5d2ed44ce97b"
   },
   "outputs": [
    {
     "name": "stderr",
     "output_type": "stream",
     "text": [
      "/usr/local/lib/python3.6/dist-packages/pandas/core/frame.py:4169: SettingWithCopyWarning: \n",
      "A value is trying to be set on a copy of a slice from a DataFrame\n",
      "\n",
      "See the caveats in the documentation: https://pandas.pydata.org/pandas-docs/stable/user_guide/indexing.html#returning-a-view-versus-a-copy\n",
      "  errors=errors,\n"
     ]
    }
   ],
   "source": [
    "train.drop(['Date', 'High', 'Open', 'Low', 'Adj Close', 'Volume'], axis=1,inplace=True)"
   ]
  },
  {
   "cell_type": "code",
   "execution_count": null,
   "metadata": {
    "colab": {
     "base_uri": "https://localhost:8080/",
     "height": 195
    },
    "id": "OSltwCbAkRIO",
    "outputId": "f477cd42-03f4-448c-cffb-c292bec6c07f"
   },
   "outputs": [
    {
     "data": {
      "text/html": [
       "<div>\n",
       "<style scoped>\n",
       "    .dataframe tbody tr th:only-of-type {\n",
       "        vertical-align: middle;\n",
       "    }\n",
       "\n",
       "    .dataframe tbody tr th {\n",
       "        vertical-align: top;\n",
       "    }\n",
       "\n",
       "    .dataframe thead th {\n",
       "        text-align: right;\n",
       "    }\n",
       "</style>\n",
       "<table border=\"1\" class=\"dataframe\">\n",
       "  <thead>\n",
       "    <tr style=\"text-align: right;\">\n",
       "      <th></th>\n",
       "      <th>Close</th>\n",
       "    </tr>\n",
       "  </thead>\n",
       "  <tbody>\n",
       "    <tr>\n",
       "      <th>0</th>\n",
       "      <td>30.572857</td>\n",
       "    </tr>\n",
       "    <tr>\n",
       "      <th>1</th>\n",
       "      <td>30.625713</td>\n",
       "    </tr>\n",
       "    <tr>\n",
       "      <th>2</th>\n",
       "      <td>30.138571</td>\n",
       "    </tr>\n",
       "    <tr>\n",
       "      <th>3</th>\n",
       "      <td>30.082857</td>\n",
       "    </tr>\n",
       "    <tr>\n",
       "      <th>4</th>\n",
       "      <td>30.282858</td>\n",
       "    </tr>\n",
       "  </tbody>\n",
       "</table>\n",
       "</div>"
      ],
      "text/plain": [
       "       Close\n",
       "0  30.572857\n",
       "1  30.625713\n",
       "2  30.138571\n",
       "3  30.082857\n",
       "4  30.282858"
      ]
     },
     "execution_count": 10,
     "metadata": {
      "tags": []
     },
     "output_type": "execute_result"
    }
   ],
   "source": [
    "train.head()"
   ]
  },
  {
   "cell_type": "code",
   "execution_count": null,
   "metadata": {
    "colab": {
     "base_uri": "https://localhost:8080/",
     "height": 101
    },
    "id": "LmwJOIHukWs8",
    "outputId": "e93c2637-4f92-4211-fa1c-e1d2f0ab1cac"
   },
   "outputs": [
    {
     "name": "stderr",
     "output_type": "stream",
     "text": [
      "/usr/local/lib/python3.6/dist-packages/pandas/core/frame.py:4169: SettingWithCopyWarning: \n",
      "A value is trying to be set on a copy of a slice from a DataFrame\n",
      "\n",
      "See the caveats in the documentation: https://pandas.pydata.org/pandas-docs/stable/user_guide/indexing.html#returning-a-view-versus-a-copy\n",
      "  errors=errors,\n"
     ]
    }
   ],
   "source": [
    "test.drop(['Date', 'High', 'Open', 'Low', 'Adj Close', 'Volume'], axis=1,inplace=True)"
   ]
  },
  {
   "cell_type": "code",
   "execution_count": null,
   "metadata": {
    "colab": {
     "base_uri": "https://localhost:8080/",
     "height": 195
    },
    "id": "iRmYZljak1gs",
    "outputId": "d5771bd1-7522-4a2f-be62-756bbd272ced"
   },
   "outputs": [
    {
     "data": {
      "text/html": [
       "<div>\n",
       "<style scoped>\n",
       "    .dataframe tbody tr th:only-of-type {\n",
       "        vertical-align: middle;\n",
       "    }\n",
       "\n",
       "    .dataframe tbody tr th {\n",
       "        vertical-align: top;\n",
       "    }\n",
       "\n",
       "    .dataframe thead th {\n",
       "        text-align: right;\n",
       "    }\n",
       "</style>\n",
       "<table border=\"1\" class=\"dataframe\">\n",
       "  <thead>\n",
       "    <tr style=\"text-align: right;\">\n",
       "      <th></th>\n",
       "      <th>Close</th>\n",
       "    </tr>\n",
       "  </thead>\n",
       "  <tbody>\n",
       "    <tr>\n",
       "      <th>2264</th>\n",
       "      <td>157.919998</td>\n",
       "    </tr>\n",
       "    <tr>\n",
       "      <th>2265</th>\n",
       "      <td>142.190002</td>\n",
       "    </tr>\n",
       "    <tr>\n",
       "      <th>2266</th>\n",
       "      <td>148.259995</td>\n",
       "    </tr>\n",
       "    <tr>\n",
       "      <th>2267</th>\n",
       "      <td>147.929993</td>\n",
       "    </tr>\n",
       "    <tr>\n",
       "      <th>2268</th>\n",
       "      <td>150.750000</td>\n",
       "    </tr>\n",
       "  </tbody>\n",
       "</table>\n",
       "</div>"
      ],
      "text/plain": [
       "           Close\n",
       "2264  157.919998\n",
       "2265  142.190002\n",
       "2266  148.259995\n",
       "2267  147.929993\n",
       "2268  150.750000"
      ]
     },
     "execution_count": 12,
     "metadata": {
      "tags": []
     },
     "output_type": "execute_result"
    }
   ],
   "source": [
    "test.head()"
   ]
  },
  {
   "cell_type": "markdown",
   "metadata": {
    "id": "gzPlv_z8lRcC"
   },
   "source": [
    "## **Scaling of Train Data**"
   ]
  },
  {
   "cell_type": "code",
   "execution_count": null,
   "metadata": {
    "id": "9N2yOF1ak3Eb"
   },
   "outputs": [],
   "source": [
    "from sklearn.preprocessing import MinMaxScaler"
   ]
  },
  {
   "cell_type": "code",
   "execution_count": null,
   "metadata": {
    "id": "y2FccEn6lev6"
   },
   "outputs": [],
   "source": [
    "scaler = MinMaxScaler()"
   ]
  },
  {
   "cell_type": "code",
   "execution_count": null,
   "metadata": {
    "id": "gu_rQBmflhpG"
   },
   "outputs": [],
   "source": [
    "train_scaled = scaler.fit_transform(train)"
   ]
  },
  {
   "cell_type": "code",
   "execution_count": null,
   "metadata": {
    "id": "2uahraitlplo"
   },
   "outputs": [],
   "source": [
    "train_scaled = np.array(train_scaled)"
   ]
  },
  {
   "cell_type": "code",
   "execution_count": null,
   "metadata": {
    "colab": {
     "base_uri": "https://localhost:8080/",
     "height": 34
    },
    "id": "KGJdL6WPlsRd",
    "outputId": "c89bb144-5ba6-47d8-caf5-1ea63d2b39de"
   },
   "outputs": [
    {
     "data": {
      "text/plain": [
       "(2264, 1)"
      ]
     },
     "execution_count": 17,
     "metadata": {
      "tags": []
     },
     "output_type": "execute_result"
    }
   ],
   "source": [
    "train_scaled.shape"
   ]
  },
  {
   "cell_type": "code",
   "execution_count": null,
   "metadata": {
    "id": "CFmTWPdUmHph"
   },
   "outputs": [],
   "source": [
    "x_train=[]\n",
    "y_train=[]"
   ]
  },
  {
   "cell_type": "code",
   "execution_count": null,
   "metadata": {
    "id": "J4SM-_LemUXF"
   },
   "outputs": [],
   "source": [
    "for i in range(10, train_scaled.shape[0]):\n",
    "  x_train.append(train_scaled[i-10:i])\n",
    "  y_train.append(train_scaled[i,0])"
   ]
  },
  {
   "cell_type": "code",
   "execution_count": null,
   "metadata": {
    "id": "DCQIgQ-0manS"
   },
   "outputs": [],
   "source": [
    "x_train, y_train = np.array(x_train), np.array(y_train)"
   ]
  },
  {
   "cell_type": "code",
   "execution_count": null,
   "metadata": {
    "colab": {
     "base_uri": "https://localhost:8080/",
     "height": 34
    },
    "id": "1YVcMd39nGDj",
    "outputId": "1791b8e2-658f-4093-faf9-7db6c657e245"
   },
   "outputs": [
    {
     "data": {
      "text/plain": [
       "(2254, 10, 1)"
      ]
     },
     "execution_count": 21,
     "metadata": {
      "tags": []
     },
     "output_type": "execute_result"
    }
   ],
   "source": [
    "x_train.shape"
   ]
  },
  {
   "cell_type": "code",
   "execution_count": null,
   "metadata": {
    "colab": {
     "base_uri": "https://localhost:8080/",
     "height": 34
    },
    "id": "vS1GHlFCngVj",
    "outputId": "22103987-11ff-4856-f3e6-2bf9b982567e"
   },
   "outputs": [
    {
     "data": {
      "text/plain": [
       "(2254,)"
      ]
     },
     "execution_count": 22,
     "metadata": {
      "tags": []
     },
     "output_type": "execute_result"
    }
   ],
   "source": [
    "y_train.shape"
   ]
  },
  {
   "cell_type": "markdown",
   "metadata": {
    "id": "7HZFc9XhnncD"
   },
   "source": [
    "## **LSTM MODEL**"
   ]
  },
  {
   "cell_type": "code",
   "execution_count": null,
   "metadata": {
    "id": "ZJYxQq3VnjH-"
   },
   "outputs": [],
   "source": [
    "model = tf.keras.models.Sequential([\n",
    "                                    tf.keras.layers.LSTM(50, activation='relu', input_shape=(10,1), return_sequences=True),\n",
    "                                    tf.keras.layers.Dropout(0.1),\n",
    "\n",
    "                                    tf.keras.layers.LSTM(80, activation='relu', return_sequences=True),\n",
    "                                    tf.keras.layers.Dropout(0.15),\n",
    "\n",
    "                                    tf.keras.layers.LSTM(80, activation='relu', return_sequences=True),\n",
    "                                    tf.keras.layers.Dropout(0.15),\n",
    "\n",
    "                                    tf.keras.layers.LSTM(100, activation='relu', return_sequences=True),\n",
    "                                    tf.keras.layers.Dropout(0.2),\n",
    "\n",
    "                                    tf.keras.layers.GlobalMaxPooling1D(),\n",
    "\n",
    "                                    tf.keras.layers.Dense(1)\n",
    "\n",
    "\n",
    "])"
   ]
  },
  {
   "cell_type": "code",
   "execution_count": null,
   "metadata": {
    "id": "8vsBDcRCoIEE"
   },
   "outputs": [],
   "source": [
    "model.compile(\n",
    "    optimizer = 'adam',\n",
    "    loss = 'mse'\n",
    ")"
   ]
  },
  {
   "cell_type": "code",
   "execution_count": null,
   "metadata": {
    "colab": {
     "base_uri": "https://localhost:8080/",
     "height": 1000
    },
    "id": "fc18CxVzo_8h",
    "outputId": "fbadd6cb-267c-4017-ab4d-e7fe695f7f40"
   },
   "outputs": [
    {
     "name": "stdout",
     "output_type": "stream",
     "text": [
      "Epoch 1/100\n",
      "71/71 [==============================] - 2s 29ms/step - loss: 0.0337\n",
      "Epoch 2/100\n",
      "71/71 [==============================] - 2s 28ms/step - loss: 0.0013\n",
      "Epoch 3/100\n",
      "71/71 [==============================] - 2s 29ms/step - loss: 0.0010\n",
      "Epoch 4/100\n",
      "71/71 [==============================] - 2s 28ms/step - loss: 0.0011\n",
      "Epoch 5/100\n",
      "71/71 [==============================] - 2s 28ms/step - loss: 9.2427e-04\n",
      "Epoch 6/100\n",
      "71/71 [==============================] - 2s 27ms/step - loss: 9.4619e-04\n",
      "Epoch 7/100\n",
      "71/71 [==============================] - 2s 28ms/step - loss: 9.3770e-04\n",
      "Epoch 8/100\n",
      "71/71 [==============================] - 2s 28ms/step - loss: 9.1258e-04\n",
      "Epoch 9/100\n",
      "71/71 [==============================] - 2s 29ms/step - loss: 7.5600e-04\n",
      "Epoch 10/100\n",
      "71/71 [==============================] - 2s 29ms/step - loss: 7.2343e-04\n",
      "Epoch 11/100\n",
      "71/71 [==============================] - 2s 28ms/step - loss: 7.7310e-04\n",
      "Epoch 12/100\n",
      "71/71 [==============================] - 2s 28ms/step - loss: 7.6475e-04\n",
      "Epoch 13/100\n",
      "71/71 [==============================] - 2s 28ms/step - loss: 7.2988e-04\n",
      "Epoch 14/100\n",
      "71/71 [==============================] - 2s 29ms/step - loss: 7.8987e-04\n",
      "Epoch 15/100\n",
      "71/71 [==============================] - 2s 28ms/step - loss: 6.3463e-04\n",
      "Epoch 16/100\n",
      "71/71 [==============================] - 2s 28ms/step - loss: 6.8775e-04\n",
      "Epoch 17/100\n",
      "71/71 [==============================] - 2s 28ms/step - loss: 6.8869e-04\n",
      "Epoch 18/100\n",
      "71/71 [==============================] - 2s 28ms/step - loss: 9.3246e-04\n",
      "Epoch 19/100\n",
      "71/71 [==============================] - 2s 28ms/step - loss: 6.8417e-04\n",
      "Epoch 20/100\n",
      "71/71 [==============================] - 2s 27ms/step - loss: 6.2152e-04\n",
      "Epoch 21/100\n",
      "71/71 [==============================] - 2s 28ms/step - loss: 6.3132e-04\n",
      "Epoch 22/100\n",
      "71/71 [==============================] - 2s 28ms/step - loss: 7.0320e-04\n",
      "Epoch 23/100\n",
      "71/71 [==============================] - 2s 27ms/step - loss: 6.2783e-04\n",
      "Epoch 24/100\n",
      "71/71 [==============================] - 2s 28ms/step - loss: 5.8606e-04\n",
      "Epoch 25/100\n",
      "71/71 [==============================] - 2s 28ms/step - loss: 5.8050e-04\n",
      "Epoch 26/100\n",
      "71/71 [==============================] - 2s 28ms/step - loss: 5.6467e-04\n",
      "Epoch 27/100\n",
      "71/71 [==============================] - 2s 29ms/step - loss: 5.6669e-04\n",
      "Epoch 28/100\n",
      "71/71 [==============================] - 2s 28ms/step - loss: 5.7271e-04\n",
      "Epoch 29/100\n",
      "71/71 [==============================] - 2s 28ms/step - loss: 5.7336e-04\n",
      "Epoch 30/100\n",
      "71/71 [==============================] - 2s 29ms/step - loss: 5.2585e-04\n",
      "Epoch 31/100\n",
      "71/71 [==============================] - 2s 29ms/step - loss: 6.0383e-04\n",
      "Epoch 32/100\n",
      "71/71 [==============================] - 2s 29ms/step - loss: 5.3469e-04\n",
      "Epoch 33/100\n",
      "71/71 [==============================] - 2s 28ms/step - loss: 5.8060e-04\n",
      "Epoch 34/100\n",
      "71/71 [==============================] - 2s 28ms/step - loss: 6.1111e-04\n",
      "Epoch 35/100\n",
      "71/71 [==============================] - 2s 29ms/step - loss: 5.3325e-04\n",
      "Epoch 36/100\n",
      "71/71 [==============================] - 2s 29ms/step - loss: 5.8976e-04\n",
      "Epoch 37/100\n",
      "71/71 [==============================] - 2s 28ms/step - loss: 5.1117e-04\n",
      "Epoch 38/100\n",
      "71/71 [==============================] - 2s 29ms/step - loss: 4.7370e-04\n",
      "Epoch 39/100\n",
      "71/71 [==============================] - 2s 29ms/step - loss: 5.0150e-04\n",
      "Epoch 40/100\n",
      "71/71 [==============================] - 2s 28ms/step - loss: 4.6665e-04\n",
      "Epoch 41/100\n",
      "71/71 [==============================] - 2s 28ms/step - loss: 4.6132e-04\n",
      "Epoch 42/100\n",
      "71/71 [==============================] - 2s 28ms/step - loss: 4.5513e-04\n",
      "Epoch 43/100\n",
      "71/71 [==============================] - 2s 29ms/step - loss: 5.7941e-04\n",
      "Epoch 44/100\n",
      "71/71 [==============================] - 2s 29ms/step - loss: 4.5030e-04\n",
      "Epoch 45/100\n",
      "71/71 [==============================] - 2s 28ms/step - loss: 4.9272e-04\n",
      "Epoch 46/100\n",
      "71/71 [==============================] - 2s 30ms/step - loss: 4.5090e-04\n",
      "Epoch 47/100\n",
      "71/71 [==============================] - 2s 28ms/step - loss: 4.0029e-04\n",
      "Epoch 48/100\n",
      "71/71 [==============================] - 2s 28ms/step - loss: 4.5811e-04\n",
      "Epoch 49/100\n",
      "71/71 [==============================] - 2s 28ms/step - loss: 4.8552e-04\n",
      "Epoch 50/100\n",
      "71/71 [==============================] - 2s 28ms/step - loss: 4.4140e-04\n",
      "Epoch 51/100\n",
      "71/71 [==============================] - 2s 28ms/step - loss: 4.5322e-04\n",
      "Epoch 52/100\n",
      "71/71 [==============================] - 2s 30ms/step - loss: 4.1536e-04\n",
      "Epoch 53/100\n",
      "71/71 [==============================] - 2s 29ms/step - loss: 4.8143e-04\n",
      "Epoch 54/100\n",
      "71/71 [==============================] - 2s 28ms/step - loss: 4.9268e-04\n",
      "Epoch 55/100\n",
      "71/71 [==============================] - 2s 28ms/step - loss: 4.1809e-04\n",
      "Epoch 56/100\n",
      "71/71 [==============================] - 2s 28ms/step - loss: 4.4481e-04\n",
      "Epoch 57/100\n",
      "71/71 [==============================] - 2s 29ms/step - loss: 4.5959e-04\n",
      "Epoch 58/100\n",
      "71/71 [==============================] - 2s 29ms/step - loss: 4.1784e-04\n",
      "Epoch 59/100\n",
      "71/71 [==============================] - 2s 28ms/step - loss: 4.1330e-04\n",
      "Epoch 60/100\n",
      "71/71 [==============================] - 2s 28ms/step - loss: 4.8257e-04\n",
      "Epoch 61/100\n",
      "71/71 [==============================] - 2s 28ms/step - loss: 4.6745e-04\n",
      "Epoch 62/100\n",
      "71/71 [==============================] - 2s 28ms/step - loss: 4.0418e-04\n",
      "Epoch 63/100\n",
      "71/71 [==============================] - 2s 29ms/step - loss: 3.7961e-04\n",
      "Epoch 64/100\n",
      "71/71 [==============================] - 2s 30ms/step - loss: 3.6513e-04\n",
      "Epoch 65/100\n",
      "71/71 [==============================] - 2s 29ms/step - loss: 3.4464e-04\n",
      "Epoch 66/100\n",
      "71/71 [==============================] - 2s 30ms/step - loss: 4.0207e-04\n",
      "Epoch 67/100\n",
      "71/71 [==============================] - 2s 28ms/step - loss: 3.5147e-04\n",
      "Epoch 68/100\n",
      "71/71 [==============================] - 2s 29ms/step - loss: 3.3809e-04\n",
      "Epoch 69/100\n",
      "71/71 [==============================] - 2s 29ms/step - loss: 4.1620e-04\n",
      "Epoch 70/100\n",
      "71/71 [==============================] - 2s 29ms/step - loss: 3.6989e-04\n",
      "Epoch 71/100\n",
      "71/71 [==============================] - 2s 28ms/step - loss: 3.7316e-04\n",
      "Epoch 72/100\n",
      "71/71 [==============================] - 2s 28ms/step - loss: 3.6946e-04\n",
      "Epoch 73/100\n",
      "71/71 [==============================] - 2s 29ms/step - loss: 3.6119e-04\n",
      "Epoch 74/100\n",
      "71/71 [==============================] - 2s 29ms/step - loss: 3.8212e-04\n",
      "Epoch 75/100\n",
      "71/71 [==============================] - 2s 29ms/step - loss: 3.2292e-04\n",
      "Epoch 76/100\n",
      "71/71 [==============================] - 2s 29ms/step - loss: 3.3435e-04\n",
      "Epoch 77/100\n",
      "71/71 [==============================] - 2s 29ms/step - loss: 3.2866e-04\n",
      "Epoch 78/100\n",
      "71/71 [==============================] - 2s 28ms/step - loss: 3.9238e-04\n",
      "Epoch 79/100\n",
      "71/71 [==============================] - 2s 28ms/step - loss: 3.2092e-04\n",
      "Epoch 80/100\n",
      "71/71 [==============================] - 2s 28ms/step - loss: 3.6901e-04\n",
      "Epoch 81/100\n",
      "71/71 [==============================] - 2s 29ms/step - loss: 3.2369e-04\n",
      "Epoch 82/100\n",
      "71/71 [==============================] - 2s 30ms/step - loss: 3.4318e-04\n",
      "Epoch 83/100\n",
      "71/71 [==============================] - 2s 29ms/step - loss: 3.7828e-04\n",
      "Epoch 84/100\n",
      "71/71 [==============================] - 2s 30ms/step - loss: 3.2815e-04\n",
      "Epoch 85/100\n",
      "71/71 [==============================] - 2s 31ms/step - loss: 3.2350e-04\n",
      "Epoch 86/100\n",
      "71/71 [==============================] - 2s 29ms/step - loss: 3.3679e-04\n",
      "Epoch 87/100\n",
      "71/71 [==============================] - 2s 29ms/step - loss: 3.6020e-04\n",
      "Epoch 88/100\n",
      "71/71 [==============================] - 2s 30ms/step - loss: 3.5814e-04\n",
      "Epoch 89/100\n",
      "71/71 [==============================] - 2s 29ms/step - loss: 3.3523e-04\n",
      "Epoch 90/100\n",
      "71/71 [==============================] - 2s 30ms/step - loss: 3.6186e-04\n",
      "Epoch 91/100\n",
      "71/71 [==============================] - 2s 30ms/step - loss: 3.0914e-04\n",
      "Epoch 92/100\n",
      "71/71 [==============================] - 2s 29ms/step - loss: 3.7866e-04\n",
      "Epoch 93/100\n",
      "71/71 [==============================] - 2s 29ms/step - loss: 4.0549e-04\n",
      "Epoch 94/100\n",
      "71/71 [==============================] - 2s 29ms/step - loss: 3.0673e-04\n",
      "Epoch 95/100\n",
      "71/71 [==============================] - 2s 29ms/step - loss: 2.9246e-04\n",
      "Epoch 96/100\n",
      "71/71 [==============================] - 2s 30ms/step - loss: 3.0981e-04\n",
      "Epoch 97/100\n",
      "71/71 [==============================] - 2s 29ms/step - loss: 3.3958e-04\n",
      "Epoch 98/100\n",
      "71/71 [==============================] - 2s 29ms/step - loss: 3.6349e-04\n",
      "Epoch 99/100\n",
      "71/71 [==============================] - 2s 29ms/step - loss: 3.1446e-04\n",
      "Epoch 100/100\n",
      "71/71 [==============================] - 2s 29ms/step - loss: 3.0299e-04\n"
     ]
    },
    {
     "data": {
      "text/plain": [
       "<tensorflow.python.keras.callbacks.History at 0x7f1caf162710>"
      ]
     },
     "execution_count": 25,
     "metadata": {
      "tags": []
     },
     "output_type": "execute_result"
    }
   ],
   "source": [
    "model.fit(x_train, y_train, epochs=100)"
   ]
  },
  {
   "cell_type": "markdown",
   "metadata": {
    "id": "Z07NOEwuqRK1"
   },
   "source": [
    "## **Test Data Preparation**"
   ]
  },
  {
   "cell_type": "code",
   "execution_count": null,
   "metadata": {
    "colab": {
     "base_uri": "https://localhost:8080/",
     "height": 195
    },
    "id": "fXg7Zh_3pFr7",
    "outputId": "71af5c78-919e-45f4-c431-66c16f6ad6b6"
   },
   "outputs": [
    {
     "data": {
      "text/html": [
       "<div>\n",
       "<style scoped>\n",
       "    .dataframe tbody tr th:only-of-type {\n",
       "        vertical-align: middle;\n",
       "    }\n",
       "\n",
       "    .dataframe tbody tr th {\n",
       "        vertical-align: top;\n",
       "    }\n",
       "\n",
       "    .dataframe thead th {\n",
       "        text-align: right;\n",
       "    }\n",
       "</style>\n",
       "<table border=\"1\" class=\"dataframe\">\n",
       "  <thead>\n",
       "    <tr style=\"text-align: right;\">\n",
       "      <th></th>\n",
       "      <th>Close</th>\n",
       "    </tr>\n",
       "  </thead>\n",
       "  <tbody>\n",
       "    <tr>\n",
       "      <th>2264</th>\n",
       "      <td>157.919998</td>\n",
       "    </tr>\n",
       "    <tr>\n",
       "      <th>2265</th>\n",
       "      <td>142.190002</td>\n",
       "    </tr>\n",
       "    <tr>\n",
       "      <th>2266</th>\n",
       "      <td>148.259995</td>\n",
       "    </tr>\n",
       "    <tr>\n",
       "      <th>2267</th>\n",
       "      <td>147.929993</td>\n",
       "    </tr>\n",
       "    <tr>\n",
       "      <th>2268</th>\n",
       "      <td>150.750000</td>\n",
       "    </tr>\n",
       "  </tbody>\n",
       "</table>\n",
       "</div>"
      ],
      "text/plain": [
       "           Close\n",
       "2264  157.919998\n",
       "2265  142.190002\n",
       "2266  148.259995\n",
       "2267  147.929993\n",
       "2268  150.750000"
      ]
     },
     "execution_count": 26,
     "metadata": {
      "tags": []
     },
     "output_type": "execute_result"
    }
   ],
   "source": [
    "test.head()"
   ]
  },
  {
   "cell_type": "code",
   "execution_count": null,
   "metadata": {
    "id": "gsGasa_YqaVE"
   },
   "outputs": [],
   "source": [
    "last_10_days = train.tail(10)"
   ]
  },
  {
   "cell_type": "code",
   "execution_count": null,
   "metadata": {
    "id": "g6AKCTqMqc48"
   },
   "outputs": [],
   "source": [
    "test = last_10_days.append(test)"
   ]
  },
  {
   "cell_type": "code",
   "execution_count": null,
   "metadata": {
    "colab": {
     "base_uri": "https://localhost:8080/",
     "height": 402
    },
    "id": "Aa0dHPx-qrY7",
    "outputId": "2051c1fd-803d-4140-e229-3f9effd341a7"
   },
   "outputs": [
    {
     "data": {
      "text/html": [
       "<div>\n",
       "<style scoped>\n",
       "    .dataframe tbody tr th:only-of-type {\n",
       "        vertical-align: middle;\n",
       "    }\n",
       "\n",
       "    .dataframe tbody tr th {\n",
       "        vertical-align: top;\n",
       "    }\n",
       "\n",
       "    .dataframe thead th {\n",
       "        text-align: right;\n",
       "    }\n",
       "</style>\n",
       "<table border=\"1\" class=\"dataframe\">\n",
       "  <thead>\n",
       "    <tr style=\"text-align: right;\">\n",
       "      <th></th>\n",
       "      <th>Close</th>\n",
       "    </tr>\n",
       "  </thead>\n",
       "  <tbody>\n",
       "    <tr>\n",
       "      <th>2254</th>\n",
       "      <td>163.940002</td>\n",
       "    </tr>\n",
       "    <tr>\n",
       "      <th>2255</th>\n",
       "      <td>166.070007</td>\n",
       "    </tr>\n",
       "    <tr>\n",
       "      <th>2256</th>\n",
       "      <td>160.889999</td>\n",
       "    </tr>\n",
       "    <tr>\n",
       "      <th>2257</th>\n",
       "      <td>156.830002</td>\n",
       "    </tr>\n",
       "    <tr>\n",
       "      <th>2258</th>\n",
       "      <td>150.729996</td>\n",
       "    </tr>\n",
       "    <tr>\n",
       "      <th>...</th>\n",
       "      <td>...</td>\n",
       "    </tr>\n",
       "    <tr>\n",
       "      <th>2469</th>\n",
       "      <td>243.580002</td>\n",
       "    </tr>\n",
       "    <tr>\n",
       "      <th>2470</th>\n",
       "      <td>246.580002</td>\n",
       "    </tr>\n",
       "    <tr>\n",
       "      <th>2471</th>\n",
       "      <td>249.050003</td>\n",
       "    </tr>\n",
       "    <tr>\n",
       "      <th>2472</th>\n",
       "      <td>243.289993</td>\n",
       "    </tr>\n",
       "    <tr>\n",
       "      <th>2473</th>\n",
       "      <td>243.259995</td>\n",
       "    </tr>\n",
       "  </tbody>\n",
       "</table>\n",
       "<p>220 rows × 1 columns</p>\n",
       "</div>"
      ],
      "text/plain": [
       "           Close\n",
       "2254  163.940002\n",
       "2255  166.070007\n",
       "2256  160.889999\n",
       "2257  156.830002\n",
       "2258  150.729996\n",
       "...          ...\n",
       "2469  243.580002\n",
       "2470  246.580002\n",
       "2471  249.050003\n",
       "2472  243.289993\n",
       "2473  243.259995\n",
       "\n",
       "[220 rows x 1 columns]"
      ]
     },
     "execution_count": 29,
     "metadata": {
      "tags": []
     },
     "output_type": "execute_result"
    }
   ],
   "source": [
    "test"
   ]
  },
  {
   "cell_type": "code",
   "execution_count": null,
   "metadata": {
    "id": "7E_TiJTZqtsR"
   },
   "outputs": [],
   "source": [
    "test = test.reset_index()"
   ]
  },
  {
   "cell_type": "code",
   "execution_count": null,
   "metadata": {
    "colab": {
     "base_uri": "https://localhost:8080/",
     "height": 195
    },
    "id": "SvRz8pTxq4Gc",
    "outputId": "1561a030-219b-49ee-c360-179bcb550623"
   },
   "outputs": [
    {
     "data": {
      "text/html": [
       "<div>\n",
       "<style scoped>\n",
       "    .dataframe tbody tr th:only-of-type {\n",
       "        vertical-align: middle;\n",
       "    }\n",
       "\n",
       "    .dataframe tbody tr th {\n",
       "        vertical-align: top;\n",
       "    }\n",
       "\n",
       "    .dataframe thead th {\n",
       "        text-align: right;\n",
       "    }\n",
       "</style>\n",
       "<table border=\"1\" class=\"dataframe\">\n",
       "  <thead>\n",
       "    <tr style=\"text-align: right;\">\n",
       "      <th></th>\n",
       "      <th>index</th>\n",
       "      <th>Close</th>\n",
       "    </tr>\n",
       "  </thead>\n",
       "  <tbody>\n",
       "    <tr>\n",
       "      <th>0</th>\n",
       "      <td>2254</td>\n",
       "      <td>163.940002</td>\n",
       "    </tr>\n",
       "    <tr>\n",
       "      <th>1</th>\n",
       "      <td>2255</td>\n",
       "      <td>166.070007</td>\n",
       "    </tr>\n",
       "    <tr>\n",
       "      <th>2</th>\n",
       "      <td>2256</td>\n",
       "      <td>160.889999</td>\n",
       "    </tr>\n",
       "    <tr>\n",
       "      <th>3</th>\n",
       "      <td>2257</td>\n",
       "      <td>156.830002</td>\n",
       "    </tr>\n",
       "    <tr>\n",
       "      <th>4</th>\n",
       "      <td>2258</td>\n",
       "      <td>150.729996</td>\n",
       "    </tr>\n",
       "  </tbody>\n",
       "</table>\n",
       "</div>"
      ],
      "text/plain": [
       "   index       Close\n",
       "0   2254  163.940002\n",
       "1   2255  166.070007\n",
       "2   2256  160.889999\n",
       "3   2257  156.830002\n",
       "4   2258  150.729996"
      ]
     },
     "execution_count": 31,
     "metadata": {
      "tags": []
     },
     "output_type": "execute_result"
    }
   ],
   "source": [
    "test.head()"
   ]
  },
  {
   "cell_type": "code",
   "execution_count": null,
   "metadata": {
    "id": "HWc28OV6q_UV"
   },
   "outputs": [],
   "source": [
    "test.drop(['index'], axis=1, inplace=True)"
   ]
  },
  {
   "cell_type": "code",
   "execution_count": null,
   "metadata": {
    "colab": {
     "base_uri": "https://localhost:8080/",
     "height": 195
    },
    "id": "VckOwrLprIBv",
    "outputId": "36805adb-e066-4694-ff0e-f5fe5b8b36da"
   },
   "outputs": [
    {
     "data": {
      "text/html": [
       "<div>\n",
       "<style scoped>\n",
       "    .dataframe tbody tr th:only-of-type {\n",
       "        vertical-align: middle;\n",
       "    }\n",
       "\n",
       "    .dataframe tbody tr th {\n",
       "        vertical-align: top;\n",
       "    }\n",
       "\n",
       "    .dataframe thead th {\n",
       "        text-align: right;\n",
       "    }\n",
       "</style>\n",
       "<table border=\"1\" class=\"dataframe\">\n",
       "  <thead>\n",
       "    <tr style=\"text-align: right;\">\n",
       "      <th></th>\n",
       "      <th>Close</th>\n",
       "    </tr>\n",
       "  </thead>\n",
       "  <tbody>\n",
       "    <tr>\n",
       "      <th>0</th>\n",
       "      <td>163.940002</td>\n",
       "    </tr>\n",
       "    <tr>\n",
       "      <th>1</th>\n",
       "      <td>166.070007</td>\n",
       "    </tr>\n",
       "    <tr>\n",
       "      <th>2</th>\n",
       "      <td>160.889999</td>\n",
       "    </tr>\n",
       "    <tr>\n",
       "      <th>3</th>\n",
       "      <td>156.830002</td>\n",
       "    </tr>\n",
       "    <tr>\n",
       "      <th>4</th>\n",
       "      <td>150.729996</td>\n",
       "    </tr>\n",
       "  </tbody>\n",
       "</table>\n",
       "</div>"
      ],
      "text/plain": [
       "        Close\n",
       "0  163.940002\n",
       "1  166.070007\n",
       "2  160.889999\n",
       "3  156.830002\n",
       "4  150.729996"
      ]
     },
     "execution_count": 33,
     "metadata": {
      "tags": []
     },
     "output_type": "execute_result"
    }
   ],
   "source": [
    "test.head()"
   ]
  },
  {
   "cell_type": "code",
   "execution_count": null,
   "metadata": {
    "id": "eVlxcdJorJPN"
   },
   "outputs": [],
   "source": [
    "test = scaler.fit_transform(test)"
   ]
  },
  {
   "cell_type": "code",
   "execution_count": null,
   "metadata": {
    "id": "JDYhIZOFrZ5P"
   },
   "outputs": [],
   "source": [
    "test = np.array(test)"
   ]
  },
  {
   "cell_type": "code",
   "execution_count": null,
   "metadata": {
    "colab": {
     "base_uri": "https://localhost:8080/",
     "height": 34
    },
    "id": "2GgWRnVjrddA",
    "outputId": "7c8c64bd-ce37-4df4-eeef-5922cc7ed425"
   },
   "outputs": [
    {
     "data": {
      "text/plain": [
       "(220, 1)"
      ]
     },
     "execution_count": 36,
     "metadata": {
      "tags": []
     },
     "output_type": "execute_result"
    }
   ],
   "source": [
    "test.shape"
   ]
  },
  {
   "cell_type": "code",
   "execution_count": null,
   "metadata": {
    "id": "X9m8F5_Gre44"
   },
   "outputs": [],
   "source": [
    "x_test = []\n",
    "y_test = []"
   ]
  },
  {
   "cell_type": "code",
   "execution_count": null,
   "metadata": {
    "id": "b4BB94gbroVO"
   },
   "outputs": [],
   "source": [
    "for i in range(10, test.shape[0]):\n",
    "  x_test.append(test[i-10:i])\n",
    "  y_test.append(test[i,0])"
   ]
  },
  {
   "cell_type": "code",
   "execution_count": null,
   "metadata": {
    "id": "fm2XGcGOr25g"
   },
   "outputs": [],
   "source": [
    "x_test, y_test = np.array(x_test), np.array(y_test)"
   ]
  },
  {
   "cell_type": "markdown",
   "metadata": {
    "id": "SmFiF6N5sCB4"
   },
   "source": [
    "## **Single-Step Prediction**"
   ]
  },
  {
   "cell_type": "code",
   "execution_count": null,
   "metadata": {
    "id": "WsRohUVzsAOX"
   },
   "outputs": [],
   "source": [
    "y_pred = model.predict(x_test)"
   ]
  },
  {
   "cell_type": "code",
   "execution_count": null,
   "metadata": {
    "colab": {
     "base_uri": "https://localhost:8080/",
     "height": 500
    },
    "id": "RLVlfvMesNQL",
    "outputId": "70d60716-5a18-453e-e5b8-3cc71c17814c"
   },
   "outputs": [
    {
     "data": {
      "text/plain": [
       "[<matplotlib.lines.Line2D at 0x7f1cac20bd68>]"
      ]
     },
     "execution_count": 41,
     "metadata": {
      "tags": []
     },
     "output_type": "execute_result"
    },
    {
     "data": {
      "image/png": "[encoded data removed]",
      "text/plain": [
       "<Figure size 864x576 with 1 Axes>"
      ]
     },
     "metadata": {
      "needs_background": "light",
      "tags": []
     },
     "output_type": "display_data"
    }
   ],
   "source": [
    "plt.figure(figsize=(12,8))\n",
    "plt.plot(y_pred, label = 'y_pred')\n",
    "plt.plot(y_test, label = 'y_true')"
   ]
  },
  {
   "cell_type": "markdown",
   "metadata": {
    "id": "BFS9O138soR4"
   },
   "source": [
    "## **Multi-Step Prediction**"
   ]
  },
  {
   "cell_type": "code",
   "execution_count": null,
   "metadata": {
    "colab": {
     "base_uri": "https://localhost:8080/",
     "height": 34
    },
    "id": "EG96NoBKtLvF",
    "outputId": "9acd294f-385e-4991-ae53-c213819110ab"
   },
   "outputs": [
    {
     "data": {
      "text/plain": [
       "(210, 10, 1)"
      ]
     },
     "execution_count": 42,
     "metadata": {
      "tags": []
     },
     "output_type": "execute_result"
    }
   ],
   "source": [
    "x_test.shape"
   ]
  },
  {
   "cell_type": "code",
   "execution_count": null,
   "metadata": {
    "id": "oyL0eUfzsbz_"
   },
   "outputs": [],
   "source": [
    "x_10 = x_test[0]"
   ]
  },
  {
   "cell_type": "code",
   "execution_count": null,
   "metadata": {
    "colab": {
     "base_uri": "https://localhost:8080/",
     "height": 34
    },
    "id": "o3hg-fFjtdSP",
    "outputId": "5a494b0c-541a-4b06-c044-6d0ca44a821d"
   },
   "outputs": [
    {
     "data": {
      "text/plain": [
       "(10, 1)"
      ]
     },
     "execution_count": 44,
     "metadata": {
      "tags": []
     },
     "output_type": "execute_result"
    }
   ],
   "source": [
    "x_10.shape"
   ]
  },
  {
   "cell_type": "code",
   "execution_count": null,
   "metadata": {
    "id": "zu7wN0Fytf4e"
   },
   "outputs": [],
   "source": [
    "y_temp = model.predict(x_10.reshape(1,10,1))"
   ]
  },
  {
   "cell_type": "code",
   "execution_count": null,
   "metadata": {
    "colab": {
     "base_uri": "https://localhost:8080/",
     "height": 34
    },
    "id": "zjJSF6Bhty5x",
    "outputId": "bd7ce266-d635-4899-8a3b-86745b3ebc6a"
   },
   "outputs": [
    {
     "data": {
      "text/plain": [
       "(1, 1)"
      ]
     },
     "execution_count": 46,
     "metadata": {
      "tags": []
     },
     "output_type": "execute_result"
    }
   ],
   "source": [
    "y_temp.shape"
   ]
  },
  {
   "cell_type": "code",
   "execution_count": null,
   "metadata": {
    "id": "Rjo0sQgHt6xZ"
   },
   "outputs": [],
   "source": [
    "new_10 = np.append(x_10, y_temp)"
   ]
  },
  {
   "cell_type": "code",
   "execution_count": null,
   "metadata": {
    "colab": {
     "base_uri": "https://localhost:8080/",
     "height": 185
    },
    "id": "2KQWdYSDuGKz",
    "outputId": "dfa6acf5-846b-405e-dd3b-695ee4d6431b"
   },
   "outputs": [
    {
     "data": {
      "text/plain": [
       "array([[0.22347001],\n",
       "       [0.17499529],\n",
       "       [0.13700168],\n",
       "       [0.07991759],\n",
       "       [0.0434213 ],\n",
       "       [0.14018338],\n",
       "       [0.13063814],\n",
       "       [0.1313868 ],\n",
       "       [0.14551753],\n",
       "       [0.12519452]])"
      ]
     },
     "execution_count": 48,
     "metadata": {
      "tags": []
     },
     "output_type": "execute_result"
    }
   ],
   "source": [
    "new_10[1:].reshape(10,1)"
   ]
  },
  {
   "cell_type": "code",
   "execution_count": null,
   "metadata": {
    "id": "Odxj5N8wub6t"
   },
   "outputs": [],
   "source": [
    "temp_x = x_test[0]\n",
    "\n",
    "for i in range(0, x_test.shape[0]):\n",
    "  y_temp = model.predict(temp_x[i:].reshape(1,10,1))\n",
    "  temp_x = np.append(temp_x, y_temp)\n",
    "  temp_x.reshape(11+i, 1)"
   ]
  },
  {
   "cell_type": "code",
   "execution_count": null,
   "metadata": {
    "colab": {
     "base_uri": "https://localhost:8080/",
     "height": 756
    },
    "id": "9yBcyNkRzuN8",
    "outputId": "20717603-0dbe-4a2e-87e3-a42613a4baa7"
   },
   "outputs": [
    {
     "data": {
      "text/plain": [
       "array([0.20353734, 0.22347001, 0.17499529, 0.13700168, 0.07991759,\n",
       "       0.0434213 , 0.14018338, 0.13063814, 0.1313868 , 0.14551753,\n",
       "       0.12519452, 0.11961178, 0.1100259 , 0.10302465, 0.10098006,\n",
       "       0.10378119, 0.11375631, 0.11116502, 0.10864874, 0.10648955,\n",
       "       0.10256896, 0.10038742, 0.09893475, 0.09845109, 0.09868324,\n",
       "       0.09909567, 0.09866577, 0.0972898 , 0.09610174, 0.09497432,\n",
       "       0.09406979, 0.09349799, 0.09310868, 0.0928115 , 0.09249   ,\n",
       "       0.09204533, 0.09147106, 0.09090121, 0.09041049, 0.08999604,\n",
       "       0.08965873, 0.08937337, 0.08910623, 0.08883461, 0.0885488 ,\n",
       "       0.08825527, 0.08797373, 0.08771988, 0.08745439, 0.08719943,\n",
       "       0.08696877, 0.08675173, 0.08653922, 0.08632718, 0.0861164 ,\n",
       "       0.0859101 , 0.0857124 , 0.08552313, 0.08533702, 0.08515917,\n",
       "       0.08499052, 0.08482756, 0.08466776, 0.08451091, 0.08435807,\n",
       "       0.08421169, 0.08407192, 0.08393785, 0.08380795, 0.0836829 ,\n",
       "       0.08356226, 0.0834454 , 0.08333197, 0.083222  , 0.08311589,\n",
       "       0.08301394, 0.08291589, 0.08282135, 0.08272996, 0.08264175,\n",
       "       0.08255635, 0.08247343, 0.08239312, 0.08231555, 0.08224112,\n",
       "       0.08216973, 0.08210086, 0.08203436, 0.0819701 , 0.08190802,\n",
       "       0.081848  , 0.08178999, 0.08173402, 0.08168005, 0.08162812,\n",
       "       0.08157808, 0.08152977, 0.08148311, 0.08143806, 0.08139455,\n",
       "       0.08135256, 0.081312  , 0.08127281, 0.08123501, 0.08119857,\n",
       "       0.08116341, 0.08112946, 0.08109666, 0.08106503, 0.08103448,\n",
       "       0.081005  , 0.08097652, 0.08094905, 0.08092247, 0.08089682,\n",
       "       0.08087203, 0.08084804, 0.08082482, 0.08080243, 0.08078078,\n",
       "       0.0807599 , 0.08073971, 0.08072022, 0.08070137, 0.08068316,\n",
       "       0.08066555, 0.08064853, 0.08063206, 0.08061617, 0.08060081,\n",
       "       0.08058597, 0.08057164, 0.08055778, 0.08054439, 0.08053146,\n",
       "       0.08051895, 0.08050686, 0.08049518, 0.0804839 , 0.080473  ,\n",
       "       0.08046247, 0.08045229, 0.08044246, 0.08043296, 0.08042379,\n",
       "       0.08041492, 0.08040634, 0.08039806, 0.08039007, 0.08038233,\n",
       "       0.08037486, 0.08036765, 0.08036067, 0.08035394, 0.08034743,\n",
       "       0.08034114, 0.08033506, 0.08032919, 0.08032352, 0.08031803,\n",
       "       0.08031274, 0.08030762, 0.08030267, 0.0802979 , 0.08029328,\n",
       "       0.08028882, 0.08028452, 0.08028035, 0.08027633, 0.08027244,\n",
       "       0.08026869, 0.08026505, 0.08026156, 0.08025818, 0.08025489,\n",
       "       0.08025174, 0.08024868, 0.08024573, 0.08024287, 0.08024012,\n",
       "       0.08023746, 0.08023489, 0.0802324 , 0.08023   , 0.08022767,\n",
       "       0.08022544, 0.08022327, 0.08022118, 0.08021916, 0.08021721,\n",
       "       0.08021531, 0.08021349, 0.08021173, 0.08021002, 0.08020838,\n",
       "       0.0802068 , 0.08020525, 0.08020377, 0.08020233, 0.08020096,\n",
       "       0.08019961, 0.08019833, 0.08019707, 0.08019586, 0.0801947 ,\n",
       "       0.08019357, 0.08019248, 0.08019143, 0.08019042, 0.08018944,\n",
       "       0.08018849, 0.08018757, 0.08018669, 0.08018582, 0.080185  ,\n",
       "       0.08018421, 0.08018343, 0.08018269, 0.08018197, 0.08018127])"
      ]
     },
     "execution_count": 50,
     "metadata": {
      "tags": []
     },
     "output_type": "execute_result"
    }
   ],
   "source": [
    "temp_x"
   ]
  },
  {
   "cell_type": "code",
   "execution_count": null,
   "metadata": {
    "colab": {
     "base_uri": "https://localhost:8080/",
     "height": 34
    },
    "id": "qhXdZVabz_WM",
    "outputId": "fc977e17-e39f-41ac-96ad-a772d064f9b0"
   },
   "outputs": [
    {
     "data": {
      "text/plain": [
       "(220,)"
      ]
     },
     "execution_count": 51,
     "metadata": {
      "tags": []
     },
     "output_type": "execute_result"
    }
   ],
   "source": [
    "temp_x.shape"
   ]
  },
  {
   "cell_type": "code",
   "execution_count": null,
   "metadata": {
    "id": "qlpuSxX70DI7"
   },
   "outputs": [],
   "source": [
    "y_multistep = temp_x[10:]"
   ]
  },
  {
   "cell_type": "code",
   "execution_count": null,
   "metadata": {
    "colab": {
     "base_uri": "https://localhost:8080/",
     "height": 34
    },
    "id": "hPh_2pTK0Nw7",
    "outputId": "088aa9ba-a74a-4a8e-ec97-65892e17eccc"
   },
   "outputs": [
    {
     "data": {
      "text/plain": [
       "(210,)"
      ]
     },
     "execution_count": 53,
     "metadata": {
      "tags": []
     },
     "output_type": "execute_result"
    }
   ],
   "source": [
    "y_multistep.shape"
   ]
  },
  {
   "cell_type": "markdown",
   "metadata": {
    "id": "raUqLWRD0bI1"
   },
   "source": [
    "## **Prediction Analysis**"
   ]
  },
  {
   "cell_type": "code",
   "execution_count": null,
   "metadata": {
    "colab": {
     "base_uri": "https://localhost:8080/",
     "height": 500
    },
    "id": "AaIVxhi90Pmy",
    "outputId": "7f3813bb-2813-4656-afcd-617179b235f2"
   },
   "outputs": [
    {
     "data": {
      "text/plain": [
       "[<matplotlib.lines.Line2D at 0x7f1cab437cc0>]"
      ]
     },
     "execution_count": 54,
     "metadata": {
      "tags": []
     },
     "output_type": "execute_result"
    },
    {
     "data": {
      "image/png": "[encoded data removed]",
      "text/plain": [
       "<Figure size 864x576 with 1 Axes>"
      ]
     },
     "metadata": {
      "needs_background": "light",
      "tags": []
     },
     "output_type": "display_data"
    }
   ],
   "source": [
    "plt.figure(figsize= (12,8))\n",
    "plt.plot(y_test)\n",
    "plt.plot(y_pred)"
   ]
  },
  {
   "cell_type": "code",
   "execution_count": null,
   "metadata": {
    "colab": {
     "base_uri": "https://localhost:8080/",
     "height": 500
    },
    "id": "nP3Cb88O0uQE",
    "outputId": "d740c3d3-725c-4314-f810-b5147b6c96b7"
   },
   "outputs": [
    {
     "data": {
      "text/plain": [
       "[<matplotlib.lines.Line2D at 0x7f1cab4dbcc0>]"
      ]
     },
     "execution_count": 55,
     "metadata": {
      "tags": []
     },
     "output_type": "execute_result"
    },
    {
     "data": {
      "image/png": "[encoded data removed]",
      "text/plain": [
       "<Figure size 864x576 with 1 Axes>"
      ]
     },
     "metadata": {
      "needs_background": "light",
      "tags": []
     },
     "output_type": "display_data"
    }
   ],
   "source": [
    "plt.figure(figsize= (12,8))\n",
    "plt.plot(y_test)\n",
    "plt.plot(y_multistep)"
   ]
  },
  {
   "cell_type": "markdown",
   "metadata": {
    "id": "kR2GW_GuCWqo"
   },
   "source": [
    "The two graphs generated in Single step prediction just differ by a time step, for multi-step prediction prediction after a while the the prediction goes to a constant value and continues that way. For single step the prediction just approximates the last value for the original graph and gives that as prediction. However in multistep that last value since is not changing the graph starts giving the same result again and again hence becoming constant at a certain value\n"
   ]
  },
  {
   "cell_type": "code",
   "execution_count": null,
   "metadata": {
    "id": "RXaMy78HDAc1"
   },
   "outputs": [],
   "source": []
  }
 ],
 "metadata": {
  "colab": {
   "name": "Apple Stock Price Prediction.ipynb",
   "provenance": []
  },
  "kernelspec": {
   "display_name": "Python 3",
   "language": "python",
   "name": "python3"
  },
  "language_info": {
   "codemirror_mode": {
    "name": "ipython",
    "version": 3
   },
   "file_extension": ".py",
   "mimetype": "text/x-python",
   "name": "python",
   "nbconvert_exporter": "python",
   "pygments_lexer": "ipython3",
   "version": "3.7.9"
  }
 },
 "nbformat": 4,
 "nbformat_minor": 1
}
